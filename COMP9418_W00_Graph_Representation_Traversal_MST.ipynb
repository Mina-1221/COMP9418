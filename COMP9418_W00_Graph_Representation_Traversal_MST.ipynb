{
  "cells": [
    {
      "cell_type": "markdown",
      "metadata": {
        "id": "4EKPOpIYm7J8"
      },
      "source": [
        "[![Open In Colab](https://colab.research.google.com/assets/colab-badge.svg)](https://colab.research.google.com/github/UNSW-COMP9418/Week00/blob/main/COMP9418_W00_Graph_Representation_Traversal_MST.ipynb)\n",
        "\n",
        "# Graph Representation, Traversal and MST\n",
        "\n",
        "**COMP9418 W00 Tutorial**\n",
        "\n",
        "- Instructor: Gustavo Batista\n",
        "- School of Computer Science and Engineering, UNSW Sydney\n",
        "- Notebook designed by Gustavo Batista and Jeremy Gillen\n",
        "- Last Update 6th September 2022"
      ]
    },
    {
      "cell_type": "markdown",
      "metadata": {
        "id": "b6IrQfTpm7KB"
      },
      "source": [
        "In this week's tutorial, we will review key concepts and algorithms for graph representation, traversal, and Minimum Spanning Trees (MSTs) that will be useful throughout the course.\n",
        "\n",
        "## Technical prerequisites\n",
        "\n",
        "We will use Jupyter Notebooks in the practical part of the tutorials. There are three main ways to run these notebooks:\n",
        "\n",
        "1. *Google Colab*. The links available in WebCMS will open the course notebooks in [Google Colab](https://colab.research.google.com/). Google Colab has all the packages necessary to run these notebooks, so no installation is required. **This is our prefered approach**.\n",
        "\n",
        "2. *CSE VLAB*. We have installed the necessary packages in the CSE computers. You have to copy the notebook to your CSE account in VLAB to execute it. There are two possibilities to access VLAB. The most recommended is installing a [VNC software](https://taggi.cse.unsw.edu.au/FAQ/Really_quick_guide_to_VLAB/) on your computer. Alternatively, you can access these computers through a web interface using [CSE VLAB Gateway](https://vlabgateway.cse.unsw.edu.au/).\n",
        "\n",
        "3. *Your computer*. If you do not have Jupyter installed on your computer, we recommend installing [Anaconda](https://www.anaconda.com/distribution). Anaconda conveniently installs Python, the Jupyter Notebook, and other commonly used packages for scientific computing and data science. To render a graphical visualization of some graphs in this notebook, you also need to [install Graphviz](http://www.graphviz.org/download). If you have conda installed in your computer, you can try the command ```conda install python-graphviz``` directly. From our experience, Graphviz can be a bit troublesome to install on certain systems. For instance, ```conda install python-graphviz``` often does not work on Linux systems, and we did not have any success using ```pip3 install graphviz``` on most systems, so do *not* use ```pip3```.\n",
        "\n",
        "Once we have done all that, we import Graphviz and heapq modules for later use."
      ]
    },
    {
      "cell_type": "code",
      "execution_count": 111,
      "metadata": {
        "scrolled": true,
        "id": "lQiKwyywm7KD"
      },
      "outputs": [],
      "source": [
        "# Visualise our graph\n",
        "import graphviz\n",
        "# Priority queue for Prim algorithm\n",
        "import heapq as pq"
      ]
    },
    {
      "cell_type": "markdown",
      "metadata": {
        "id": "hgET703hm7KF"
      },
      "source": [
        "## Representing graphs\n",
        "\n",
        "We will not use any particular library for representing graphs in Python. Instead, we will represent a graph structure as a dictionary, where the keys are the nodes of the graph. For each key, the corresponding value is a list. The list contains the nodes that are directly connected to this node.\n",
        "\n",
        "For instance, the following graph:\n",
        "\n",
        "![Graph example](https://raw.githubusercontent.com/UNSW-COMP9418/Week00/main/img/example_graph.png \"Graph example\")\n",
        "\n",
        "can be represented as\n",
        "\n",
        "```\n",
        "graph = {\n",
        "    0: [2],\n",
        "    1: [0],\n",
        "    2: [1],\n",
        "    3: [1, 2],\n",
        "}\n",
        "```\n",
        "\n",
        "This representation is an adjacency list. If you'd like to read more about this style of graphs, there is more\n",
        "[information on the Python website](https://www.python.org/doc/essays/graphs/)."
      ]
    },
    {
      "cell_type": "markdown",
      "metadata": {
        "id": "PvSlq1HTm7KF"
      },
      "source": [
        "### Exercise\n",
        "\n",
        "Now, it is your turn. Represent the following directed graph using the suggested adjacency list representation.\n",
        "\n",
        "![Graph exercise](https://raw.githubusercontent.com/UNSW-COMP9418/Week00/main/img/exercise_graph.png \"Graph exercise\")"
      ]
    },
    {
      "cell_type": "code",
      "execution_count": 112,
      "metadata": {
        "id": "40c81ZGWm7KF"
      },
      "outputs": [],
      "source": [
        "graph = {\n",
        "    0: [3],\n",
        "    1: [0,4],\n",
        "    2: [1,4],\n",
        "    3: [1],\n",
        "    4: [3],\n",
        "    5: [2,4],\n",
        "}"
      ]
    },
    {
      "cell_type": "markdown",
      "metadata": {
        "id": "sGRdGt7Bm7KG"
      },
      "source": [
        "## Graphviz\n",
        "\n",
        "We can use the Graphviz library to visually inspect our graphs.\n",
        "\n",
        "The following code will convert your digraph to a Graphviz object and render it."
      ]
    },
    {
      "cell_type": "code",
      "execution_count": 113,
      "metadata": {
        "colab": {
          "base_uri": "https://localhost:8080/",
          "height": 161
        },
        "id": "p8GX4UN5m7KG",
        "outputId": "a26e6f47-2c1f-49d9-a8ba-61b888cea5e2"
      },
      "outputs": [
        {
          "output_type": "execute_result",
          "data": {
            "image/svg+xml": "<?xml version=\"1.0\" encoding=\"UTF-8\" standalone=\"no\"?>\n<!DOCTYPE svg PUBLIC \"-//W3C//DTD SVG 1.1//EN\"\n \"http://www.w3.org/Graphics/SVG/1.1/DTD/svg11.dtd\">\n<!-- Generated by graphviz version 2.43.0 (0)\n -->\n<!-- Title: %3 Pages: 1 -->\n<svg width=\"186pt\" height=\"106pt\"\n viewBox=\"0.00 0.00 186.01 106.01\" xmlns=\"http://www.w3.org/2000/svg\" xmlns:xlink=\"http://www.w3.org/1999/xlink\">\n<g id=\"graph0\" class=\"graph\" transform=\"scale(1 1) rotate(0) translate(4 102.01)\">\n<title>%3</title>\n<polygon fill=\"white\" stroke=\"transparent\" points=\"-4,4 -4,-102.01 182.01,-102.01 182.01,4 -4,4\"/>\n<!-- 0 -->\n<g id=\"node1\" class=\"node\">\n<title>0</title>\n<ellipse fill=\"none\" stroke=\"black\" cx=\"27\" cy=\"-80.01\" rx=\"27\" ry=\"18\"/>\n<text text-anchor=\"middle\" x=\"27\" y=\"-76.31\" font-family=\"Times,serif\" font-size=\"14.00\">0</text>\n</g>\n<!-- 3 -->\n<g id=\"node4\" class=\"node\">\n<title>3</title>\n<ellipse fill=\"none\" stroke=\"black\" cx=\"27\" cy=\"-18\" rx=\"27\" ry=\"18\"/>\n<text text-anchor=\"middle\" x=\"27\" y=\"-14.3\" font-family=\"Times,serif\" font-size=\"14.00\">3</text>\n</g>\n<!-- 0&#45;&gt;3 -->\n<g id=\"edge1\" class=\"edge\">\n<title>0&#45;&gt;3</title>\n<path fill=\"none\" stroke=\"black\" d=\"M27,-61.74C27,-56.99 27,-51.75 27,-46.61\"/>\n<polygon fill=\"black\" stroke=\"black\" points=\"30.5,-46.35 27,-36.35 23.5,-46.35 30.5,-46.35\"/>\n</g>\n<!-- 1 -->\n<g id=\"node2\" class=\"node\">\n<title>1</title>\n<ellipse fill=\"none\" stroke=\"black\" cx=\"89.01\" cy=\"-80.01\" rx=\"27\" ry=\"18\"/>\n<text text-anchor=\"middle\" x=\"89.01\" y=\"-76.31\" font-family=\"Times,serif\" font-size=\"14.00\">1</text>\n</g>\n<!-- 1&#45;&gt;0 -->\n<g id=\"edge2\" class=\"edge\">\n<title>1&#45;&gt;0</title>\n<path fill=\"none\" stroke=\"black\" d=\"M61.99,-80.01C61.83,-80.01 61.66,-80.01 61.5,-80.01\"/>\n<polygon fill=\"black\" stroke=\"black\" points=\"64.12,-76.51 54.12,-80.01 64.12,-83.51 64.12,-76.51\"/>\n</g>\n<!-- 4 -->\n<g id=\"node5\" class=\"node\">\n<title>4</title>\n<ellipse fill=\"none\" stroke=\"black\" cx=\"89.01\" cy=\"-18\" rx=\"27\" ry=\"18\"/>\n<text text-anchor=\"middle\" x=\"89.01\" y=\"-14.3\" font-family=\"Times,serif\" font-size=\"14.00\">4</text>\n</g>\n<!-- 1&#45;&gt;4 -->\n<g id=\"edge3\" class=\"edge\">\n<title>1&#45;&gt;4</title>\n<path fill=\"none\" stroke=\"black\" d=\"M89.01,-61.74C89.01,-56.99 89.01,-51.75 89.01,-46.61\"/>\n<polygon fill=\"black\" stroke=\"black\" points=\"92.51,-46.35 89.01,-36.35 85.51,-46.35 92.51,-46.35\"/>\n</g>\n<!-- 2 -->\n<g id=\"node3\" class=\"node\">\n<title>2</title>\n<ellipse fill=\"none\" stroke=\"black\" cx=\"151.01\" cy=\"-80.01\" rx=\"27\" ry=\"18\"/>\n<text text-anchor=\"middle\" x=\"151.01\" y=\"-76.31\" font-family=\"Times,serif\" font-size=\"14.00\">2</text>\n</g>\n<!-- 2&#45;&gt;1 -->\n<g id=\"edge4\" class=\"edge\">\n<title>2&#45;&gt;1</title>\n<path fill=\"none\" stroke=\"black\" d=\"M124,-80.01C123.83,-80.01 123.67,-80.01 123.51,-80.01\"/>\n<polygon fill=\"black\" stroke=\"black\" points=\"126.12,-76.51 116.12,-80.01 126.12,-83.51 126.12,-76.51\"/>\n</g>\n<!-- 2&#45;&gt;4 -->\n<g id=\"edge5\" class=\"edge\">\n<title>2&#45;&gt;4</title>\n<path fill=\"none\" stroke=\"black\" d=\"M136,-65C128.65,-57.64 119.64,-48.63 111.49,-40.48\"/>\n<polygon fill=\"black\" stroke=\"black\" points=\"113.85,-37.9 104.31,-33.3 108.9,-42.85 113.85,-37.9\"/>\n</g>\n<!-- 3&#45;&gt;1 -->\n<g id=\"edge6\" class=\"edge\">\n<title>3&#45;&gt;1</title>\n<path fill=\"none\" stroke=\"black\" d=\"M42.01,-33.01C49.36,-40.36 58.37,-49.37 66.53,-57.53\"/>\n<polygon fill=\"black\" stroke=\"black\" points=\"64.16,-60.11 73.7,-64.7 69.11,-55.16 64.16,-60.11\"/>\n</g>\n<!-- 4&#45;&gt;3 -->\n<g id=\"edge7\" class=\"edge\">\n<title>4&#45;&gt;3</title>\n<path fill=\"none\" stroke=\"black\" d=\"M61.99,-18C61.83,-18 61.66,-18 61.5,-18\"/>\n<polygon fill=\"black\" stroke=\"black\" points=\"64.12,-14.5 54.12,-18 64.12,-21.5 64.12,-14.5\"/>\n</g>\n<!-- 5 -->\n<g id=\"node6\" class=\"node\">\n<title>5</title>\n<ellipse fill=\"none\" stroke=\"black\" cx=\"151.01\" cy=\"-18\" rx=\"27\" ry=\"18\"/>\n<text text-anchor=\"middle\" x=\"151.01\" y=\"-14.3\" font-family=\"Times,serif\" font-size=\"14.00\">5</text>\n</g>\n<!-- 5&#45;&gt;2 -->\n<g id=\"edge8\" class=\"edge\">\n<title>5&#45;&gt;2</title>\n<path fill=\"none\" stroke=\"black\" d=\"M151.01,-36.27C151.01,-41.02 151.01,-46.25 151.01,-51.4\"/>\n<polygon fill=\"black\" stroke=\"black\" points=\"147.51,-51.65 151.01,-61.65 154.51,-51.65 147.51,-51.65\"/>\n</g>\n<!-- 5&#45;&gt;4 -->\n<g id=\"edge9\" class=\"edge\">\n<title>5&#45;&gt;4</title>\n<path fill=\"none\" stroke=\"black\" d=\"M124,-18C123.83,-18 123.67,-18 123.51,-18\"/>\n<polygon fill=\"black\" stroke=\"black\" points=\"126.12,-14.5 116.12,-18 126.12,-21.5 126.12,-14.5\"/>\n</g>\n</g>\n</svg>\n",
            "text/plain": [
              "<graphviz.graphs.Digraph at 0x787af8eb9dd0>"
            ]
          },
          "metadata": {},
          "execution_count": 113
        }
      ],
      "source": [
        "dot = graphviz.Digraph(engine=\"neato\", comment='Direct graph example') #指定用 Neato 布局引擎，让节点按照指定的坐标或自动优化排布。\n",
        "dot.attr(overlap=\"false\", splines=\"true\")  #告诉布局器避免节点重叠，并用平滑曲线绘制边。\n",
        "\n",
        "# List of positions for each node\n",
        "# We use node positions to replicate the previous figure\n",
        "# This can be removed if the nodes do not need to be presented in a specific order\n",
        "pos = {\n",
        "    0: '0,1!',\n",
        "    1: '1,1!',\n",
        "    2: '2,1!',\n",
        "    3: '0,0!',\n",
        "    4: '1,0!',\n",
        "    5: '2,0!',\n",
        "}\n",
        "\n",
        "for v in graph.keys():\n",
        "    dot.node(str(v), pos=pos[v])   #str()参数转换成字符串\n",
        "    # dot.node(str(v))              # Use this line instead of the previous one to position the nodes in random order\n",
        "\n",
        "for v in graph.keys():\n",
        "    for w in graph[v]:\n",
        "        dot.edge(str(v), str(w))\n",
        "\n",
        "dot"
      ]
    },
    {
      "cell_type": "markdown",
      "metadata": {
        "id": "39_B3uJ5m7KG"
      },
      "source": [
        "## Graph class\n",
        "\n",
        "To keep our code clean and put all of the graph-related functions in one place, we can wrap this graph data structure in a class."
      ]
    },
    {
      "cell_type": "code",
      "execution_count": 114,
      "metadata": {
        "id": "v9xyYE2dm7KH"
      },
      "outputs": [],
      "source": [
        "class Graph:\n",
        "    def __init__(self, adj_list=None):\n",
        "        self.adj_list = dict()\n",
        "        if adj_list is not None:\n",
        "            self.adj_list = adj_list.copy() # dict with graph's adjacency list\n",
        "        self.colour = dict()"
      ]
    },
    {
      "cell_type": "code",
      "execution_count": 115,
      "metadata": {
        "id": "LScDF-81m7KH"
      },
      "outputs": [],
      "source": [
        "class Graph(Graph):\n",
        "    def show(self, directed=True, positions=None):\n",
        "        \"\"\"\n",
        "        Prints a graphical visualisation of the graph usign GraphViz\n",
        "        arguments:\n",
        "            `directed`, True if the graph is directed, False if the graph is undirected\n",
        "            `pos: dictionary`, with nodes as keys and positions as values\n",
        "        return:\n",
        "            GraphViz object\n",
        "        \"\"\"\n",
        "        if directed:\n",
        "            dot = graphviz.Digraph(engine=\"neato\", comment='Directed graph') ##生成有向图\n",
        "        else:\n",
        "            dot = graphviz.Graph(engine=\"neato\", comment='Undirected graph', strict=True)  ##生成无向图\n",
        "        dot.attr(overlap=\"false\", splines=\"true\")\n",
        "        for v in self.adj_list:\n",
        "            if positions is not None:\n",
        "                dot.node(str(v), pos=positions[v])\n",
        "            else:\n",
        "                dot.node(str(v))\n",
        "        for v in self.adj_list:\n",
        "            for w in self.adj_list[v]:\n",
        "                dot.edge(str(v), str(w))\n",
        "\n",
        "        return dot"
      ]
    },
    {
      "cell_type": "code",
      "execution_count": 116,
      "metadata": {
        "colab": {
          "base_uri": "https://localhost:8080/",
          "height": 161
        },
        "id": "0FSF1f1Jm7KH",
        "outputId": "d3c2f7ae-1148-45b8-e4fb-73739037c1a3"
      },
      "outputs": [
        {
          "output_type": "execute_result",
          "data": {
            "image/svg+xml": "<?xml version=\"1.0\" encoding=\"UTF-8\" standalone=\"no\"?>\n<!DOCTYPE svg PUBLIC \"-//W3C//DTD SVG 1.1//EN\"\n \"http://www.w3.org/Graphics/SVG/1.1/DTD/svg11.dtd\">\n<!-- Generated by graphviz version 2.43.0 (0)\n -->\n<!-- Title: %3 Pages: 1 -->\n<svg width=\"186pt\" height=\"106pt\"\n viewBox=\"0.00 0.00 186.01 106.01\" xmlns=\"http://www.w3.org/2000/svg\" xmlns:xlink=\"http://www.w3.org/1999/xlink\">\n<g id=\"graph0\" class=\"graph\" transform=\"scale(1 1) rotate(0) translate(4 102.01)\">\n<title>%3</title>\n<polygon fill=\"white\" stroke=\"transparent\" points=\"-4,4 -4,-102.01 182.01,-102.01 182.01,4 -4,4\"/>\n<!-- 0 -->\n<g id=\"node1\" class=\"node\">\n<title>0</title>\n<ellipse fill=\"none\" stroke=\"black\" cx=\"27\" cy=\"-80.01\" rx=\"27\" ry=\"18\"/>\n<text text-anchor=\"middle\" x=\"27\" y=\"-76.31\" font-family=\"Times,serif\" font-size=\"14.00\">0</text>\n</g>\n<!-- 3 -->\n<g id=\"node4\" class=\"node\">\n<title>3</title>\n<ellipse fill=\"none\" stroke=\"black\" cx=\"27\" cy=\"-18\" rx=\"27\" ry=\"18\"/>\n<text text-anchor=\"middle\" x=\"27\" y=\"-14.3\" font-family=\"Times,serif\" font-size=\"14.00\">3</text>\n</g>\n<!-- 0&#45;&gt;3 -->\n<g id=\"edge1\" class=\"edge\">\n<title>0&#45;&gt;3</title>\n<path fill=\"none\" stroke=\"black\" d=\"M27,-61.74C27,-56.99 27,-51.75 27,-46.61\"/>\n<polygon fill=\"black\" stroke=\"black\" points=\"30.5,-46.35 27,-36.35 23.5,-46.35 30.5,-46.35\"/>\n</g>\n<!-- 1 -->\n<g id=\"node2\" class=\"node\">\n<title>1</title>\n<ellipse fill=\"none\" stroke=\"black\" cx=\"89.01\" cy=\"-80.01\" rx=\"27\" ry=\"18\"/>\n<text text-anchor=\"middle\" x=\"89.01\" y=\"-76.31\" font-family=\"Times,serif\" font-size=\"14.00\">1</text>\n</g>\n<!-- 1&#45;&gt;0 -->\n<g id=\"edge2\" class=\"edge\">\n<title>1&#45;&gt;0</title>\n<path fill=\"none\" stroke=\"black\" d=\"M61.99,-80.01C61.83,-80.01 61.66,-80.01 61.5,-80.01\"/>\n<polygon fill=\"black\" stroke=\"black\" points=\"64.12,-76.51 54.12,-80.01 64.12,-83.51 64.12,-76.51\"/>\n</g>\n<!-- 4 -->\n<g id=\"node5\" class=\"node\">\n<title>4</title>\n<ellipse fill=\"none\" stroke=\"black\" cx=\"89.01\" cy=\"-18\" rx=\"27\" ry=\"18\"/>\n<text text-anchor=\"middle\" x=\"89.01\" y=\"-14.3\" font-family=\"Times,serif\" font-size=\"14.00\">4</text>\n</g>\n<!-- 1&#45;&gt;4 -->\n<g id=\"edge3\" class=\"edge\">\n<title>1&#45;&gt;4</title>\n<path fill=\"none\" stroke=\"black\" d=\"M89.01,-61.74C89.01,-56.99 89.01,-51.75 89.01,-46.61\"/>\n<polygon fill=\"black\" stroke=\"black\" points=\"92.51,-46.35 89.01,-36.35 85.51,-46.35 92.51,-46.35\"/>\n</g>\n<!-- 2 -->\n<g id=\"node3\" class=\"node\">\n<title>2</title>\n<ellipse fill=\"none\" stroke=\"black\" cx=\"151.01\" cy=\"-80.01\" rx=\"27\" ry=\"18\"/>\n<text text-anchor=\"middle\" x=\"151.01\" y=\"-76.31\" font-family=\"Times,serif\" font-size=\"14.00\">2</text>\n</g>\n<!-- 2&#45;&gt;1 -->\n<g id=\"edge4\" class=\"edge\">\n<title>2&#45;&gt;1</title>\n<path fill=\"none\" stroke=\"black\" d=\"M124,-80.01C123.83,-80.01 123.67,-80.01 123.51,-80.01\"/>\n<polygon fill=\"black\" stroke=\"black\" points=\"126.12,-76.51 116.12,-80.01 126.12,-83.51 126.12,-76.51\"/>\n</g>\n<!-- 2&#45;&gt;4 -->\n<g id=\"edge5\" class=\"edge\">\n<title>2&#45;&gt;4</title>\n<path fill=\"none\" stroke=\"black\" d=\"M136,-65C128.65,-57.64 119.64,-48.63 111.49,-40.48\"/>\n<polygon fill=\"black\" stroke=\"black\" points=\"113.85,-37.9 104.31,-33.3 108.9,-42.85 113.85,-37.9\"/>\n</g>\n<!-- 3&#45;&gt;1 -->\n<g id=\"edge6\" class=\"edge\">\n<title>3&#45;&gt;1</title>\n<path fill=\"none\" stroke=\"black\" d=\"M42.01,-33.01C49.36,-40.36 58.37,-49.37 66.53,-57.53\"/>\n<polygon fill=\"black\" stroke=\"black\" points=\"64.16,-60.11 73.7,-64.7 69.11,-55.16 64.16,-60.11\"/>\n</g>\n<!-- 4&#45;&gt;3 -->\n<g id=\"edge7\" class=\"edge\">\n<title>4&#45;&gt;3</title>\n<path fill=\"none\" stroke=\"black\" d=\"M61.99,-18C61.83,-18 61.66,-18 61.5,-18\"/>\n<polygon fill=\"black\" stroke=\"black\" points=\"64.12,-14.5 54.12,-18 64.12,-21.5 64.12,-14.5\"/>\n</g>\n<!-- 5 -->\n<g id=\"node6\" class=\"node\">\n<title>5</title>\n<ellipse fill=\"none\" stroke=\"black\" cx=\"151.01\" cy=\"-18\" rx=\"27\" ry=\"18\"/>\n<text text-anchor=\"middle\" x=\"151.01\" y=\"-14.3\" font-family=\"Times,serif\" font-size=\"14.00\">5</text>\n</g>\n<!-- 5&#45;&gt;2 -->\n<g id=\"edge8\" class=\"edge\">\n<title>5&#45;&gt;2</title>\n<path fill=\"none\" stroke=\"black\" d=\"M151.01,-36.27C151.01,-41.02 151.01,-46.25 151.01,-51.4\"/>\n<polygon fill=\"black\" stroke=\"black\" points=\"147.51,-51.65 151.01,-61.65 154.51,-51.65 147.51,-51.65\"/>\n</g>\n<!-- 5&#45;&gt;4 -->\n<g id=\"edge9\" class=\"edge\">\n<title>5&#45;&gt;4</title>\n<path fill=\"none\" stroke=\"black\" d=\"M124,-18C123.83,-18 123.67,-18 123.51,-18\"/>\n<polygon fill=\"black\" stroke=\"black\" points=\"126.12,-14.5 116.12,-18 126.12,-21.5 126.12,-14.5\"/>\n</g>\n</g>\n</svg>\n",
            "text/plain": [
              "<graphviz.graphs.Digraph at 0x787af978e650>"
            ]
          },
          "metadata": {},
          "execution_count": 116
        }
      ],
      "source": [
        "G = Graph(graph)\n",
        "G.show(positions=pos)"
      ]
    },
    {
      "cell_type": "markdown",
      "metadata": {
        "id": "7FsQWOItm7KI"
      },
      "source": [
        "## Depth-first search\n",
        "\n",
        "Let's implement the DFS search. We will provide the code for you. Later on, you will extend it to implement other algorithms. We will use a colouring scheme for nodes.\n",
        "\n",
        "Initially, all nodes are \"white,\" indicating they have not been processed yet. When we first visit a node, we recolour it as \"grey\". Finally, the node becomes \"black\" when we have processed all its outgoing edges, and we are ready to backtrack to the previous node."
      ]
    },
    {
      "cell_type": "code",
      "execution_count": 117,
      "metadata": {
        "id": "YjdSYDdPm7KI"
      },
      "outputs": [],
      "source": [
        "class Graph(Graph):\n",
        "    def _dfs_r(self, v): # This is the main DFS recursive function\n",
        "        \"\"\"\n",
        "        argument\n",
        "        `v`, next vertex to be visited\n",
        "        `colour`, dictionary with the colour of each node\n",
        "        \"\"\"\n",
        "        print('Visiting: ', v)\n",
        "        self.colour[v] = 'grey' # Visited vertices are coloured 'grey'\n",
        "        for w in self.adj_list[v]: # Let's visit all outgoing edges from v\n",
        "            if self.colour[w] == 'white': # To avoid loops, we check if the next vertex hasn't been visited yet\n",
        "                self._dfs_r(w)\n",
        "        self.colour[v] = 'black' # When we finish the for loop, we know we have visited all nodes from v. It is time to turn it 'black'\n",
        "\n",
        "    def dfs(self, start): # This is an auxiliary DFS function to create and initialize the colour dictionary\n",
        "        \"\"\"\n",
        "        argument\n",
        "        `start`, starting vertex\n",
        "        \"\"\"\n",
        "        self.colour = {node: 'white' for node in self.adj_list.keys()} # Create a dictionary with keys as node numbers and values equal to 'white'\n",
        "        self._dfs_r(start)\n",
        "        return self.colour # We can return colour dictionary. It is useful for some operations, such as detecting connected components"
      ]
    },
    {
      "cell_type": "markdown",
      "metadata": {
        "id": "bxv1AdEom7KI"
      },
      "source": [
        "We can now test your graph representation. If you represented the graph correctly, a DFS starting at node 0 should visit all vertices but nodes 2 and 5. Notice, there is no path between node 0 and nodes 2 and 5."
      ]
    },
    {
      "cell_type": "code",
      "execution_count": 118,
      "metadata": {
        "colab": {
          "base_uri": "https://localhost:8080/"
        },
        "id": "h4h08KpGm7KI",
        "outputId": "6641746e-eea3-44d7-f28e-5ff5f637101b"
      },
      "outputs": [
        {
          "output_type": "stream",
          "name": "stdout",
          "text": [
            "Visiting:  0\n",
            "Visiting:  3\n",
            "Visiting:  1\n",
            "Visiting:  4\n"
          ]
        },
        {
          "output_type": "execute_result",
          "data": {
            "text/plain": [
              "{0: 'black', 1: 'black', 2: 'white', 3: 'black', 4: 'black', 5: 'white'}"
            ]
          },
          "metadata": {},
          "execution_count": 118
        }
      ],
      "source": [
        "G = Graph(graph)\n",
        "G.dfs(0)"
      ]
    },
    {
      "cell_type": "markdown",
      "metadata": {
        "id": "B7NYG7lTm7KJ"
      },
      "source": [
        "A modification of the algorithm can make sure it searches all nodes, even if they are disconnected from other nodes. The idea is to restart the recursive DFS search for each white node until all nodes become black."
      ]
    },
    {
      "cell_type": "code",
      "execution_count": 119,
      "metadata": {
        "id": "2hLjqd6Cm7KJ"
      },
      "outputs": [],
      "source": [
        "class Graph(Graph):\n",
        "    def dfs_all(self): # This is an auxiliary DFS function to create and initialize the colour dictionary\n",
        "        \"\"\"\n",
        "        argument\n",
        "        `start`, starting vertex\n",
        "        \"\"\"\n",
        "        self.colour = {node: 'white' for node in self.adj_list.keys()} # Create a dictionary with keys as node numbers and values equal to 'white'\n",
        "        for start in self.colour.keys():\n",
        "            if self.colour[start] == 'white':\n",
        "                self._dfs_r(start)"
      ]
    },
    {
      "cell_type": "code",
      "execution_count": 120,
      "metadata": {
        "colab": {
          "base_uri": "https://localhost:8080/"
        },
        "id": "zKGZaKUQm7KJ",
        "outputId": "6b006ac9-3517-4df3-cea6-e9a6d60c1d45"
      },
      "outputs": [
        {
          "output_type": "stream",
          "name": "stdout",
          "text": [
            "Visiting:  0\n",
            "Visiting:  3\n",
            "Visiting:  1\n",
            "Visiting:  4\n",
            "Visiting:  2\n",
            "Visiting:  5\n"
          ]
        }
      ],
      "source": [
        "G = Graph(graph)\n",
        "G.dfs_all()"
      ]
    },
    {
      "cell_type": "markdown",
      "metadata": {
        "id": "1nv0oNkhm7KJ"
      },
      "source": [
        "## Finding Cycles in Directed Graphs\n",
        "\n",
        "Our second task is to determine if a graph has cycles. During a DFS, a cycle can be found by testing if we have reached a grey node. Usually, we stop when we first observe a cycle. Therefore, we need to modify the DFS procedure to return a boolean.\n",
        "\n",
        "### Exercise\n",
        "\n",
        "Now, it is your turn to modify the code below to detect cycles in directed graphs."
      ]
    },
    {
      "cell_type": "code",
      "execution_count": 121,
      "metadata": {
        "colab": {
          "base_uri": "https://localhost:8080/"
        },
        "id": "wE35wH3Km7KJ",
        "outputId": "fa6f7ae7-949a-4b25-d28c-f1a176a43203"
      },
      "outputs": [
        {
          "output_type": "stream",
          "name": "stdout",
          "text": [
            "Test graph 1\n",
            "Visiting:  0\n",
            "Visiting:  1\n",
            "Visiting:  2\n",
            "Visiting:  3\n",
            "Visiting:  4\n",
            "Visiting:  5\n",
            "5 0 Cycle detected\n",
            "Test graph 2\n",
            "Visiting:  0\n",
            "Visiting:  1\n",
            "Visiting:  2\n",
            "Visiting:  4\n",
            "Visiting:  5\n",
            "Visiting:  3\n",
            "Test graph 3\n",
            "Visiting:  0\n",
            "Visiting:  1\n",
            "Visiting:  2\n",
            "Visiting:  3\n",
            "Visiting:  4\n",
            "Visiting:  5\n",
            "5 3 Cycle detected\n"
          ]
        },
        {
          "output_type": "execute_result",
          "data": {
            "text/plain": [
              "True"
            ]
          },
          "metadata": {},
          "execution_count": 121
        }
      ],
      "source": [
        "class Graph(Graph):\n",
        "    # This is the main recursive function\n",
        "    def _find_cycle_r(self, v):\n",
        "        \"\"\"\n",
        "        argument\n",
        "        `v`, next vertex to be visited\n",
        "        \"\"\"\n",
        "        print('Visiting: ', v)\n",
        "        self.colour[v] = 'grey' # Visited vertices are coloured 'grey'\n",
        "        for w in self.adj_list[v]: # Let's visit all outgoing edges from v\n",
        "            if self.colour[w] == 'white': # To avoid loops, we check if the next vertex hasn't been visited yet\n",
        "                if self._find_cycle_r(w):\n",
        "                    return True\n",
        "            else:\n",
        "                if self.colour[w] == 'grey':\n",
        "                    print(v, w, 'Cycle detected')\n",
        "                    return True\n",
        "\n",
        "        self.colour[v] = 'black'\n",
        "        return False\n",
        "\n",
        "    # This is an auxiliary function to create and initialize the colour dictionary\n",
        "    def find_cycle(self):\n",
        "        \"\"\"\n",
        "        argument\n",
        "        `v`, starting vertex\n",
        "        \"\"\"\n",
        "        self.colour = dict([(node, 'white') for node in self.adj_list.keys()])\n",
        "        for start in self.colour.keys():\n",
        "            if self.colour[start] == 'white':\n",
        "                if self._find_cycle_r(start):\n",
        "                    return True\n",
        "\n",
        "        return False\n",
        "\n",
        "#######################################\n",
        "# Test code\n",
        "#######################################\n",
        "test_graph1 = {\n",
        "    0: [1],\n",
        "    1: [2],\n",
        "    2: [3],\n",
        "    3: [4],\n",
        "    4: [5],\n",
        "    5: [0],\n",
        "}\n",
        "\n",
        "test_graph2 = {\n",
        "    0: [1,4],\n",
        "    1: [2],\n",
        "    2: [4],\n",
        "    3: [],\n",
        "    4: [5],\n",
        "    5: [3],\n",
        "}\n",
        "\n",
        "test_graph3 = {\n",
        "    0: [1],\n",
        "    1: [2],\n",
        "    2: [],\n",
        "    3: [4],\n",
        "    4: [5],\n",
        "    5: [3],\n",
        "}\n",
        "\n",
        "print ('Test graph 1')\n",
        "G1 = Graph(test_graph1)\n",
        "G1.find_cycle()\n",
        "print ('Test graph 2')\n",
        "G2 = Graph(test_graph2)\n",
        "G2.find_cycle()\n",
        "print ('Test graph 3')\n",
        "G3 = Graph(test_graph3)\n",
        "G3.find_cycle()"
      ]
    },
    {
      "cell_type": "markdown",
      "metadata": {
        "id": "3SyrlBaim7KJ"
      },
      "source": [
        "If your implementation is correct and you included a message when the cycle is detected, then you should see the following output:\n",
        "\n",
        "```\n",
        "Test graph 1\n",
        "Visiting:  0\n",
        "Visiting:  1\n",
        "Visiting:  2\n",
        "Visiting:  3\n",
        "Visiting:  4\n",
        "Visiting:  5\n",
        "5 0 Cycle detected\n",
        "Test graph 2\n",
        "Visiting:  0\n",
        "Visiting:  1\n",
        "Visiting:  2\n",
        "Visiting:  4\n",
        "Visiting:  5\n",
        "Visiting:  3\n",
        "Test graph 3\n",
        "Visiting:  0\n",
        "Visiting:  1\n",
        "Visiting:  2\n",
        "Visiting:  3\n",
        "Visiting:  4\n",
        "Visiting:  5\n",
        "5 3 Cycle detected\n",
        "```"
      ]
    },
    {
      "cell_type": "markdown",
      "metadata": {
        "id": "buGGNTKZm7KK"
      },
      "source": [
        "We can now test your implementation in the exercise graph."
      ]
    },
    {
      "cell_type": "code",
      "execution_count": 122,
      "metadata": {
        "colab": {
          "base_uri": "https://localhost:8080/"
        },
        "id": "tLFA46mWm7KK",
        "outputId": "88156bc7-45ab-4959-c4aa-66286aa47968"
      },
      "outputs": [
        {
          "output_type": "stream",
          "name": "stdout",
          "text": [
            "Visiting:  0\n",
            "Visiting:  3\n",
            "Visiting:  1\n",
            "1 0 Cycle detected\n"
          ]
        },
        {
          "output_type": "execute_result",
          "data": {
            "text/plain": [
              "True"
            ]
          },
          "metadata": {},
          "execution_count": 122
        }
      ],
      "source": [
        "G = Graph(graph)\n",
        "G.find_cycle()"
      ]
    },
    {
      "cell_type": "markdown",
      "metadata": {
        "id": "TEebDIU2m7KK"
      },
      "source": [
        "It should show one of the following cycles: 0-3-1 or 1-4-2, depending on the order you entered the node numbers in the adjacency list."
      ]
    },
    {
      "cell_type": "markdown",
      "metadata": {
        "id": "VDmlDXpJm7KK"
      },
      "source": [
        "# Topological Sort\n",
        "\n",
        "The topological sort can be obtained by merely inserting the nodes into a stack when they become black. We use the stack to reverse the order of the nodes when printing the result. By doing so, the edges are directed from left to right.\n",
        "\n",
        "## Exercise\n",
        "\n",
        "Let's implement the topological sort. It is an almost trivial modification of your DFS procedure. We have started the code for you to create a stack to store the sorted nodes."
      ]
    },
    {
      "cell_type": "code",
      "execution_count": 123,
      "metadata": {
        "colab": {
          "base_uri": "https://localhost:8080/"
        },
        "id": "wIkHh4e6m7KK",
        "outputId": "072846f3-24e4-4603-9d78-f2a950e4ed13"
      },
      "outputs": [
        {
          "output_type": "stream",
          "name": "stdout",
          "text": [
            "Topological sort:\n",
            "[0, 1, 2, 4, 5, 3]\n"
          ]
        }
      ],
      "source": [
        "class Graph(Graph):\n",
        "    # This is the recursive function that visits the nodes according to depth-first search and appends the black nodes\n",
        "    # to the end of a `stack` list.\n",
        "    def _topological_sort_r(self, v):\n",
        "        \"\"\"\n",
        "        argument\n",
        "        `v`, current vertex\n",
        "        \"\"\"\n",
        "\n",
        "        # TODO: Fill in this function\n",
        "        self.colour[v] = 'grey' # Visited vertices are coloured 'grey'\n",
        "        for w in self.adj_list[v]: # Let's visit all outgoing edges from v\n",
        "            if self.colour[w] == 'white':\n",
        "                self._topological_sort_r(w)\n",
        "\n",
        "\n",
        "        self.colour[v] = 'black'\n",
        "        self.stack.append(v)\n",
        "\n",
        "\n",
        "    # This is main function that prepares for the recursive function. It first colours all nodes as 'white' and call the\n",
        "    # recursive function for an arbitrary node. When the recursive function returns, if we have any remaining 'white'\n",
        "    # nodes, we call the recursive function again for these nodes.\n",
        "    def topological_sort(self):\n",
        "        \"\"\"\n",
        "        argument\n",
        "        `G`, an adjacency list representation of a graph\n",
        "        return a list with the topological order of the graph G\n",
        "        \"\"\"\n",
        "        # We start with an empty stack\n",
        "        self.stack = []\n",
        "        # Colour is dictionary that associates node keys to colours. The colours are 'white', 'grey' and 'black'.\n",
        "        self.colour = {node: 'white' for node in self.adj_list.keys()}\n",
        "        # We call the recursive function to visit a first node. When the function returns, if there are any white\n",
        "        # nodes remaining, we call the function again for these white nodes\n",
        "        for start in self.adj_list.keys():\n",
        "            # If the node is 'white' we call the recursive function to vists the nodes connected to it in DFS order\n",
        "            if self.colour[start] == 'white':\n",
        "                # This is a call to topologicalSort_r\n",
        "                self._topological_sort_r(start)\n",
        "        # We need to reverse the list, we use a little trick with list slice\n",
        "        return self.stack[::-1]\n",
        "\n",
        "\n",
        "#######################################\n",
        "# Test code\n",
        "#######################################\n",
        "\n",
        "test_graph2 = {\n",
        "    0: [1,4],\n",
        "    1: [2],\n",
        "    2: [4],\n",
        "    3: [],\n",
        "    4: [5],\n",
        "    5: [3],\n",
        "}\n",
        "\n",
        "G2 = Graph(test_graph2)\n",
        "print(\"Topological sort:\")\n",
        "print(G2.topological_sort())"
      ]
    },
    {
      "cell_type": "markdown",
      "metadata": {
        "id": "IYjAFhqBm7KK"
      },
      "source": [
        "If your implementation is correct, then you should see the following output:\n",
        "\n",
        "```\n",
        "Topological sort:\n",
        "[0, 1, 2, 4, 5, 3]\n",
        "```"
      ]
    },
    {
      "cell_type": "markdown",
      "metadata": {
        "id": "tAjbJJdJm7KK"
      },
      "source": [
        "Now, let's execute your code. First, we need a new DAG, since our example has cycles and the topological ordering only makes sense for acyclic graphs."
      ]
    },
    {
      "cell_type": "code",
      "execution_count": 124,
      "metadata": {
        "colab": {
          "base_uri": "https://localhost:8080/"
        },
        "id": "Aj-1CSnSm7KL",
        "outputId": "414b8ab6-fe0c-4992-8a12-614af649138d"
      },
      "outputs": [
        {
          "output_type": "execute_result",
          "data": {
            "text/plain": [
              "[3, 0, 1, 4, 2, 5]"
            ]
          },
          "metadata": {},
          "execution_count": 124
        }
      ],
      "source": [
        "graph = {\n",
        "    0: [1, 4],\n",
        "    1: [2, 4],\n",
        "    2: [5],\n",
        "    3: [0, 4],\n",
        "    4: [5],\n",
        "    5: [],\n",
        "}\n",
        "\n",
        "G = Graph(graph)\n",
        "G.topological_sort()"
      ]
    },
    {
      "cell_type": "markdown",
      "metadata": {
        "id": "6MJU13uAm7KL"
      },
      "source": [
        "Let's visualise the test graph again, just to remember its topology."
      ]
    },
    {
      "cell_type": "code",
      "execution_count": 125,
      "metadata": {
        "colab": {
          "base_uri": "https://localhost:8080/",
          "height": 161
        },
        "id": "N8NasmMEm7KL",
        "outputId": "381c1a7a-b0a6-4ab5-bafe-a0ed9df15c6f"
      },
      "outputs": [
        {
          "output_type": "execute_result",
          "data": {
            "image/svg+xml": "<?xml version=\"1.0\" encoding=\"UTF-8\" standalone=\"no\"?>\n<!DOCTYPE svg PUBLIC \"-//W3C//DTD SVG 1.1//EN\"\n \"http://www.w3.org/Graphics/SVG/1.1/DTD/svg11.dtd\">\n<!-- Generated by graphviz version 2.43.0 (0)\n -->\n<!-- Title: %3 Pages: 1 -->\n<svg width=\"186pt\" height=\"106pt\"\n viewBox=\"0.00 0.00 186.01 106.01\" xmlns=\"http://www.w3.org/2000/svg\" xmlns:xlink=\"http://www.w3.org/1999/xlink\">\n<g id=\"graph0\" class=\"graph\" transform=\"scale(1 1) rotate(0) translate(4 102.01)\">\n<title>%3</title>\n<polygon fill=\"white\" stroke=\"transparent\" points=\"-4,4 -4,-102.01 182.01,-102.01 182.01,4 -4,4\"/>\n<!-- 0 -->\n<g id=\"node1\" class=\"node\">\n<title>0</title>\n<ellipse fill=\"none\" stroke=\"black\" cx=\"27\" cy=\"-80.01\" rx=\"27\" ry=\"18\"/>\n<text text-anchor=\"middle\" x=\"27\" y=\"-76.31\" font-family=\"Times,serif\" font-size=\"14.00\">0</text>\n</g>\n<!-- 1 -->\n<g id=\"node2\" class=\"node\">\n<title>1</title>\n<ellipse fill=\"none\" stroke=\"black\" cx=\"89.01\" cy=\"-80.01\" rx=\"27\" ry=\"18\"/>\n<text text-anchor=\"middle\" x=\"89.01\" y=\"-76.31\" font-family=\"Times,serif\" font-size=\"14.00\">1</text>\n</g>\n<!-- 0&#45;&gt;1 -->\n<g id=\"edge1\" class=\"edge\">\n<title>0&#45;&gt;1</title>\n<path fill=\"none\" stroke=\"black\" d=\"M54.02,-80.01C54.18,-80.01 54.34,-80.01 54.51,-80.01\"/>\n<polygon fill=\"black\" stroke=\"black\" points=\"51.89,-83.51 61.89,-80.01 51.89,-76.51 51.89,-83.51\"/>\n</g>\n<!-- 4 -->\n<g id=\"node5\" class=\"node\">\n<title>4</title>\n<ellipse fill=\"none\" stroke=\"black\" cx=\"89.01\" cy=\"-18\" rx=\"27\" ry=\"18\"/>\n<text text-anchor=\"middle\" x=\"89.01\" y=\"-14.3\" font-family=\"Times,serif\" font-size=\"14.00\">4</text>\n</g>\n<!-- 0&#45;&gt;4 -->\n<g id=\"edge2\" class=\"edge\">\n<title>0&#45;&gt;4</title>\n<path fill=\"none\" stroke=\"black\" d=\"M42.01,-65C49.36,-57.64 58.37,-48.63 66.53,-40.48\"/>\n<polygon fill=\"black\" stroke=\"black\" points=\"69.11,-42.85 73.7,-33.3 64.16,-37.9 69.11,-42.85\"/>\n</g>\n<!-- 2 -->\n<g id=\"node3\" class=\"node\">\n<title>2</title>\n<ellipse fill=\"none\" stroke=\"black\" cx=\"151.01\" cy=\"-80.01\" rx=\"27\" ry=\"18\"/>\n<text text-anchor=\"middle\" x=\"151.01\" y=\"-76.31\" font-family=\"Times,serif\" font-size=\"14.00\">2</text>\n</g>\n<!-- 1&#45;&gt;2 -->\n<g id=\"edge3\" class=\"edge\">\n<title>1&#45;&gt;2</title>\n<path fill=\"none\" stroke=\"black\" d=\"M116.02,-80.01C116.19,-80.01 116.35,-80.01 116.51,-80.01\"/>\n<polygon fill=\"black\" stroke=\"black\" points=\"113.89,-83.51 123.89,-80.01 113.89,-76.51 113.89,-83.51\"/>\n</g>\n<!-- 1&#45;&gt;4 -->\n<g id=\"edge4\" class=\"edge\">\n<title>1&#45;&gt;4</title>\n<path fill=\"none\" stroke=\"black\" d=\"M89.01,-61.74C89.01,-56.99 89.01,-51.75 89.01,-46.61\"/>\n<polygon fill=\"black\" stroke=\"black\" points=\"92.51,-46.35 89.01,-36.35 85.51,-46.35 92.51,-46.35\"/>\n</g>\n<!-- 5 -->\n<g id=\"node6\" class=\"node\">\n<title>5</title>\n<ellipse fill=\"none\" stroke=\"black\" cx=\"151.01\" cy=\"-18\" rx=\"27\" ry=\"18\"/>\n<text text-anchor=\"middle\" x=\"151.01\" y=\"-14.3\" font-family=\"Times,serif\" font-size=\"14.00\">5</text>\n</g>\n<!-- 2&#45;&gt;5 -->\n<g id=\"edge5\" class=\"edge\">\n<title>2&#45;&gt;5</title>\n<path fill=\"none\" stroke=\"black\" d=\"M151.01,-61.74C151.01,-56.99 151.01,-51.75 151.01,-46.61\"/>\n<polygon fill=\"black\" stroke=\"black\" points=\"154.51,-46.35 151.01,-36.35 147.51,-46.35 154.51,-46.35\"/>\n</g>\n<!-- 3 -->\n<g id=\"node4\" class=\"node\">\n<title>3</title>\n<ellipse fill=\"none\" stroke=\"black\" cx=\"27\" cy=\"-18\" rx=\"27\" ry=\"18\"/>\n<text text-anchor=\"middle\" x=\"27\" y=\"-14.3\" font-family=\"Times,serif\" font-size=\"14.00\">3</text>\n</g>\n<!-- 3&#45;&gt;0 -->\n<g id=\"edge6\" class=\"edge\">\n<title>3&#45;&gt;0</title>\n<path fill=\"none\" stroke=\"black\" d=\"M27,-36.27C27,-41.02 27,-46.25 27,-51.4\"/>\n<polygon fill=\"black\" stroke=\"black\" points=\"23.5,-51.65 27,-61.65 30.5,-51.65 23.5,-51.65\"/>\n</g>\n<!-- 3&#45;&gt;4 -->\n<g id=\"edge7\" class=\"edge\">\n<title>3&#45;&gt;4</title>\n<path fill=\"none\" stroke=\"black\" d=\"M54.02,-18C54.18,-18 54.34,-18 54.51,-18\"/>\n<polygon fill=\"black\" stroke=\"black\" points=\"51.89,-21.5 61.89,-18 51.89,-14.5 51.89,-21.5\"/>\n</g>\n<!-- 4&#45;&gt;5 -->\n<g id=\"edge8\" class=\"edge\">\n<title>4&#45;&gt;5</title>\n<path fill=\"none\" stroke=\"black\" d=\"M116.02,-18C116.19,-18 116.35,-18 116.51,-18\"/>\n<polygon fill=\"black\" stroke=\"black\" points=\"113.89,-21.5 123.89,-18 113.89,-14.5 113.89,-21.5\"/>\n</g>\n</g>\n</svg>\n",
            "text/plain": [
              "<graphviz.graphs.Digraph at 0x787af8befd90>"
            ]
          },
          "metadata": {},
          "execution_count": 125
        }
      ],
      "source": [
        "G.show(positions=pos)"
      ]
    },
    {
      "cell_type": "markdown",
      "metadata": {
        "id": "wvFpjcFRm7KL"
      },
      "source": [
        "We can use graphViz to visualize the topological sort output graphically to confirm our code is correct."
      ]
    },
    {
      "cell_type": "code",
      "execution_count": 126,
      "metadata": {
        "colab": {
          "base_uri": "https://localhost:8080/",
          "height": 88
        },
        "id": "xVoCo6J3m7KL",
        "outputId": "ecfe8098-fde4-48f6-ee45-110c333e7034"
      },
      "outputs": [
        {
          "output_type": "execute_result",
          "data": {
            "image/svg+xml": "<?xml version=\"1.0\" encoding=\"UTF-8\" standalone=\"no\"?>\n<!DOCTYPE svg PUBLIC \"-//W3C//DTD SVG 1.1//EN\"\n \"http://www.w3.org/Graphics/SVG/1.1/DTD/svg11.dtd\">\n<!-- Generated by graphviz version 2.43.0 (0)\n -->\n<!-- Title: %3 Pages: 1 -->\n<svg width=\"372pt\" height=\"51pt\"\n viewBox=\"0.00 0.00 372.03 51.12\" xmlns=\"http://www.w3.org/2000/svg\" xmlns:xlink=\"http://www.w3.org/1999/xlink\">\n<g id=\"graph0\" class=\"graph\" transform=\"scale(1 1) rotate(0) translate(4 47.12)\">\n<title>%3</title>\n<polygon fill=\"white\" stroke=\"transparent\" points=\"-4,4 -4,-47.12 368.03,-47.12 368.03,4 -4,4\"/>\n<!-- 3 -->\n<g id=\"node1\" class=\"node\">\n<title>3</title>\n<ellipse fill=\"none\" stroke=\"black\" cx=\"27\" cy=\"-19.69\" rx=\"27\" ry=\"18\"/>\n<text text-anchor=\"middle\" x=\"27\" y=\"-15.99\" font-family=\"Times,serif\" font-size=\"14.00\">3</text>\n</g>\n<!-- 0 -->\n<g id=\"node2\" class=\"node\">\n<title>0</title>\n<ellipse fill=\"none\" stroke=\"black\" cx=\"89.01\" cy=\"-19.69\" rx=\"27\" ry=\"18\"/>\n<text text-anchor=\"middle\" x=\"89.01\" y=\"-15.99\" font-family=\"Times,serif\" font-size=\"14.00\">0</text>\n</g>\n<!-- 3&#45;&gt;0 -->\n<g id=\"edge1\" class=\"edge\">\n<title>3&#45;&gt;0</title>\n<path fill=\"none\" stroke=\"black\" d=\"M54.02,-19.69C54.18,-19.69 54.34,-19.69 54.51,-19.69\"/>\n<polygon fill=\"black\" stroke=\"black\" points=\"51.89,-23.19 61.89,-19.69 51.89,-16.19 51.89,-23.19\"/>\n</g>\n<!-- 4 -->\n<g id=\"node4\" class=\"node\">\n<title>4</title>\n<ellipse fill=\"none\" stroke=\"black\" cx=\"213.02\" cy=\"-19.69\" rx=\"27\" ry=\"18\"/>\n<text text-anchor=\"middle\" x=\"213.02\" y=\"-15.99\" font-family=\"Times,serif\" font-size=\"14.00\">4</text>\n</g>\n<!-- 3&#45;&gt;4 -->\n<g id=\"edge2\" class=\"edge\">\n<title>3&#45;&gt;4</title>\n<path fill=\"none\" stroke=\"black\" d=\"M50.37,-29.12C61.77,-33.19 75.82,-37.45 88.88,-39.28 116.12,-43.12 123.51,-42.99 150.77,-39.28 160.05,-38.02 162.11,-36.39 171.07,-33.66 173.66,-32.87 176.34,-32.03 179.03,-31.17\"/>\n<polygon fill=\"black\" stroke=\"black\" points=\"180.26,-34.45 188.68,-28.03 178.09,-27.79 180.26,-34.45\"/>\n</g>\n<!-- 1 -->\n<g id=\"node3\" class=\"node\">\n<title>1</title>\n<ellipse fill=\"none\" stroke=\"black\" cx=\"151.01\" cy=\"-19.69\" rx=\"27\" ry=\"18\"/>\n<text text-anchor=\"middle\" x=\"151.01\" y=\"-15.99\" font-family=\"Times,serif\" font-size=\"14.00\">1</text>\n</g>\n<!-- 0&#45;&gt;1 -->\n<g id=\"edge3\" class=\"edge\">\n<title>0&#45;&gt;1</title>\n<path fill=\"none\" stroke=\"black\" d=\"M116.02,-19.69C116.19,-19.69 116.35,-19.69 116.51,-19.69\"/>\n<polygon fill=\"black\" stroke=\"black\" points=\"113.89,-23.19 123.89,-19.69 113.89,-16.19 113.89,-23.19\"/>\n</g>\n<!-- 0&#45;&gt;4 -->\n<g id=\"edge4\" class=\"edge\">\n<title>0&#45;&gt;4</title>\n<path fill=\"none\" stroke=\"black\" d=\"M110.95,-9.13C122.65,-4.45 137.43,0 151.25,-0.09 161.35,-0.15 171.97,-2.58 181.5,-5.71\"/>\n<polygon fill=\"black\" stroke=\"black\" points=\"180.37,-9.02 190.96,-9.15 182.76,-2.44 180.37,-9.02\"/>\n</g>\n<!-- 1&#45;&gt;4 -->\n<g id=\"edge6\" class=\"edge\">\n<title>1&#45;&gt;4</title>\n<path fill=\"none\" stroke=\"black\" d=\"M178.03,-19.69C178.19,-19.69 178.36,-19.69 178.52,-19.69\"/>\n<polygon fill=\"black\" stroke=\"black\" points=\"175.9,-23.19 185.9,-19.69 175.9,-16.19 175.9,-23.19\"/>\n</g>\n<!-- 2 -->\n<g id=\"node5\" class=\"node\">\n<title>2</title>\n<ellipse fill=\"none\" stroke=\"black\" cx=\"275.02\" cy=\"-19.69\" rx=\"27\" ry=\"18\"/>\n<text text-anchor=\"middle\" x=\"275.02\" y=\"-15.99\" font-family=\"Times,serif\" font-size=\"14.00\">2</text>\n</g>\n<!-- 1&#45;&gt;2 -->\n<g id=\"edge5\" class=\"edge\">\n<title>1&#45;&gt;2</title>\n<path fill=\"none\" stroke=\"black\" d=\"M173.12,-30.26C184.7,-34.87 199.28,-39.25 212.92,-39.28 223.08,-39.31 233.75,-36.91 243.33,-33.77\"/>\n<polygon fill=\"black\" stroke=\"black\" points=\"244.64,-37.02 252.84,-30.32 242.25,-30.44 244.64,-37.02\"/>\n</g>\n<!-- 5 -->\n<g id=\"node6\" class=\"node\">\n<title>5</title>\n<ellipse fill=\"none\" stroke=\"black\" cx=\"337.03\" cy=\"-19.69\" rx=\"27\" ry=\"18\"/>\n<text text-anchor=\"middle\" x=\"337.03\" y=\"-15.99\" font-family=\"Times,serif\" font-size=\"14.00\">5</text>\n</g>\n<!-- 4&#45;&gt;5 -->\n<g id=\"edge7\" class=\"edge\">\n<title>4&#45;&gt;5</title>\n<path fill=\"none\" stroke=\"black\" d=\"M235.11,-30.24C246.67,-34.85 261.23,-39.23 274.86,-39.28 285.11,-39.33 295.89,-36.89 305.53,-33.72\"/>\n<polygon fill=\"black\" stroke=\"black\" points=\"306.92,-36.94 315.11,-30.22 304.52,-30.36 306.92,-36.94\"/>\n</g>\n<!-- 2&#45;&gt;5 -->\n<g id=\"edge8\" class=\"edge\">\n<title>2&#45;&gt;5</title>\n<path fill=\"none\" stroke=\"black\" d=\"M302.04,-19.69C302.2,-19.69 302.37,-19.69 302.53,-19.69\"/>\n<polygon fill=\"black\" stroke=\"black\" points=\"299.91,-23.19 309.91,-19.69 299.91,-16.19 299.91,-23.19\"/>\n</g>\n</g>\n</svg>\n",
            "text/plain": [
              "<graphviz.graphs.Digraph at 0x787af8de0f90>"
            ]
          },
          "metadata": {},
          "execution_count": 126
        }
      ],
      "source": [
        "# We use the neato engine since it allow to position the nodes\n",
        "dot = graphviz.Digraph(engine=\"neato\", comment='Topological sort')\n",
        "# This line will avoid the edges to cross over the nodes\n",
        "dot.attr(overlap=\"false\", splines=\"true\")\n",
        "\n",
        "s = G.topological_sort()\n",
        "\n",
        "# Create nodes in sequence positions determined by the stack s\n",
        "for i, v in enumerate(s, 1):\n",
        "    dot.node(str(v), pos=str(i)+',0!')\n",
        "\n",
        "# Create edges\n",
        "for v in s:\n",
        "    for w in graph[v]:\n",
        "        dot.edge(str(v), str(w))\n",
        "\n",
        "dot"
      ]
    },
    {
      "cell_type": "markdown",
      "metadata": {
        "id": "cA536OVAm7KL"
      },
      "source": [
        "# Transpose Graph\n",
        "\n",
        "Transposition is an operation over a directed graph $G$ that results in another directed graph on the same set of vertices with all of the edges reversed. The following figure illustrates this process, with a graph $G$ on the left side and its transpose $G^T$ on the right side:\n",
        "\n",
        "![Transpose graph](https://raw.githubusercontent.com/UNSW-COMP9418/Week00/main/img/Transpose_graph.png \"Transpose Graph\")\n",
        "\n",
        "\n",
        "## Exercise\n",
        "\n",
        "Implement the transpose operation over our graph representation. Take a graph as input and produce its transpose as output."
      ]
    },
    {
      "cell_type": "code",
      "execution_count": 127,
      "metadata": {
        "id": "2pB8A_xSm7KL"
      },
      "outputs": [],
      "source": [
        "class Graph(Graph):\n",
        "    def transpose(self):\n",
        "        \"\"\"\n",
        "        argument\n",
        "        `G`, an adjacency list representation of a graph\n",
        "        \"\"\"\n",
        "        gt = dict((v, []) for v in self.adj_list)\n",
        "        # TODO\n",
        "        for v in self.adj_list:\n",
        "            for w in self.adj_list[v]:\n",
        "                gt[w].append(v)\n",
        "        ...\n",
        "        return Graph(gt)"
      ]
    },
    {
      "cell_type": "markdown",
      "metadata": {
        "id": "V4P7fnBJm7KM"
      },
      "source": [
        "Let's write some code for testing. First, we define the same test graph as the figure above. We will call our transpose_graph routine and use the Graphviz library to plot the transposed graph. We have done the code for you below. You can compare the output with the figure above to check if your code is correct."
      ]
    },
    {
      "cell_type": "code",
      "execution_count": 128,
      "metadata": {
        "colab": {
          "base_uri": "https://localhost:8080/",
          "height": 161
        },
        "id": "8fkSLo5um7KM",
        "outputId": "34527178-b810-49a8-c104-1b9b7c6ed1c6"
      },
      "outputs": [
        {
          "output_type": "execute_result",
          "data": {
            "image/svg+xml": "<?xml version=\"1.0\" encoding=\"UTF-8\" standalone=\"no\"?>\n<!DOCTYPE svg PUBLIC \"-//W3C//DTD SVG 1.1//EN\"\n \"http://www.w3.org/Graphics/SVG/1.1/DTD/svg11.dtd\">\n<!-- Generated by graphviz version 2.43.0 (0)\n -->\n<!-- Title: %3 Pages: 1 -->\n<svg width=\"186pt\" height=\"106pt\"\n viewBox=\"0.00 0.00 186.01 106.01\" xmlns=\"http://www.w3.org/2000/svg\" xmlns:xlink=\"http://www.w3.org/1999/xlink\">\n<g id=\"graph0\" class=\"graph\" transform=\"scale(1 1) rotate(0) translate(4 102.01)\">\n<title>%3</title>\n<polygon fill=\"white\" stroke=\"transparent\" points=\"-4,4 -4,-102.01 182.01,-102.01 182.01,4 -4,4\"/>\n<!-- 0 -->\n<g id=\"node1\" class=\"node\">\n<title>0</title>\n<ellipse fill=\"none\" stroke=\"black\" cx=\"27\" cy=\"-80.01\" rx=\"27\" ry=\"18\"/>\n<text text-anchor=\"middle\" x=\"27\" y=\"-76.31\" font-family=\"Times,serif\" font-size=\"14.00\">0</text>\n</g>\n<!-- 1 -->\n<g id=\"node2\" class=\"node\">\n<title>1</title>\n<ellipse fill=\"none\" stroke=\"black\" cx=\"89.01\" cy=\"-80.01\" rx=\"27\" ry=\"18\"/>\n<text text-anchor=\"middle\" x=\"89.01\" y=\"-76.31\" font-family=\"Times,serif\" font-size=\"14.00\">1</text>\n</g>\n<!-- 0&#45;&gt;1 -->\n<g id=\"edge1\" class=\"edge\">\n<title>0&#45;&gt;1</title>\n<path fill=\"none\" stroke=\"black\" d=\"M54.02,-80.01C54.18,-80.01 54.34,-80.01 54.51,-80.01\"/>\n<polygon fill=\"black\" stroke=\"black\" points=\"51.89,-83.51 61.89,-80.01 51.89,-76.51 51.89,-83.51\"/>\n</g>\n<!-- 2 -->\n<g id=\"node3\" class=\"node\">\n<title>2</title>\n<ellipse fill=\"none\" stroke=\"black\" cx=\"151.01\" cy=\"-80.01\" rx=\"27\" ry=\"18\"/>\n<text text-anchor=\"middle\" x=\"151.01\" y=\"-76.31\" font-family=\"Times,serif\" font-size=\"14.00\">2</text>\n</g>\n<!-- 1&#45;&gt;2 -->\n<g id=\"edge2\" class=\"edge\">\n<title>1&#45;&gt;2</title>\n<path fill=\"none\" stroke=\"black\" d=\"M116.02,-80.01C116.19,-80.01 116.35,-80.01 116.51,-80.01\"/>\n<polygon fill=\"black\" stroke=\"black\" points=\"113.89,-83.51 123.89,-80.01 113.89,-76.51 113.89,-83.51\"/>\n</g>\n<!-- 3 -->\n<g id=\"node4\" class=\"node\">\n<title>3</title>\n<ellipse fill=\"none\" stroke=\"black\" cx=\"27\" cy=\"-18\" rx=\"27\" ry=\"18\"/>\n<text text-anchor=\"middle\" x=\"27\" y=\"-14.3\" font-family=\"Times,serif\" font-size=\"14.00\">3</text>\n</g>\n<!-- 1&#45;&gt;3 -->\n<g id=\"edge3\" class=\"edge\">\n<title>1&#45;&gt;3</title>\n<path fill=\"none\" stroke=\"black\" d=\"M74,-65C66.64,-57.64 57.63,-48.63 49.48,-40.48\"/>\n<polygon fill=\"black\" stroke=\"black\" points=\"51.85,-37.9 42.3,-33.3 46.9,-42.85 51.85,-37.9\"/>\n</g>\n<!-- 5 -->\n<g id=\"node6\" class=\"node\">\n<title>5</title>\n<ellipse fill=\"none\" stroke=\"black\" cx=\"151.01\" cy=\"-18\" rx=\"27\" ry=\"18\"/>\n<text text-anchor=\"middle\" x=\"151.01\" y=\"-14.3\" font-family=\"Times,serif\" font-size=\"14.00\">5</text>\n</g>\n<!-- 2&#45;&gt;5 -->\n<g id=\"edge4\" class=\"edge\">\n<title>2&#45;&gt;5</title>\n<path fill=\"none\" stroke=\"black\" d=\"M151.01,-61.74C151.01,-56.99 151.01,-51.75 151.01,-46.61\"/>\n<polygon fill=\"black\" stroke=\"black\" points=\"154.51,-46.35 151.01,-36.35 147.51,-46.35 154.51,-46.35\"/>\n</g>\n<!-- 3&#45;&gt;0 -->\n<g id=\"edge5\" class=\"edge\">\n<title>3&#45;&gt;0</title>\n<path fill=\"none\" stroke=\"black\" d=\"M27,-36.27C27,-41.02 27,-46.25 27,-51.4\"/>\n<polygon fill=\"black\" stroke=\"black\" points=\"23.5,-51.65 27,-61.65 30.5,-51.65 23.5,-51.65\"/>\n</g>\n<!-- 4 -->\n<g id=\"node5\" class=\"node\">\n<title>4</title>\n<ellipse fill=\"none\" stroke=\"black\" cx=\"89.01\" cy=\"-18\" rx=\"27\" ry=\"18\"/>\n<text text-anchor=\"middle\" x=\"89.01\" y=\"-14.3\" font-family=\"Times,serif\" font-size=\"14.00\">4</text>\n</g>\n<!-- 3&#45;&gt;4 -->\n<g id=\"edge6\" class=\"edge\">\n<title>3&#45;&gt;4</title>\n<path fill=\"none\" stroke=\"black\" d=\"M54.02,-18C54.18,-18 54.34,-18 54.51,-18\"/>\n<polygon fill=\"black\" stroke=\"black\" points=\"51.89,-21.5 61.89,-18 51.89,-14.5 51.89,-21.5\"/>\n</g>\n<!-- 4&#45;&gt;1 -->\n<g id=\"edge7\" class=\"edge\">\n<title>4&#45;&gt;1</title>\n<path fill=\"none\" stroke=\"black\" d=\"M89.01,-36.27C89.01,-41.02 89.01,-46.25 89.01,-51.4\"/>\n<polygon fill=\"black\" stroke=\"black\" points=\"85.51,-51.65 89.01,-61.65 92.51,-51.65 85.51,-51.65\"/>\n</g>\n<!-- 4&#45;&gt;2 -->\n<g id=\"edge8\" class=\"edge\">\n<title>4&#45;&gt;2</title>\n<path fill=\"none\" stroke=\"black\" d=\"M104.02,-33.01C111.37,-40.36 120.38,-49.37 128.53,-57.53\"/>\n<polygon fill=\"black\" stroke=\"black\" points=\"126.16,-60.11 135.71,-64.7 131.11,-55.16 126.16,-60.11\"/>\n</g>\n<!-- 5&#45;&gt;4 -->\n<g id=\"edge9\" class=\"edge\">\n<title>5&#45;&gt;4</title>\n<path fill=\"none\" stroke=\"black\" d=\"M124,-18C123.83,-18 123.67,-18 123.51,-18\"/>\n<polygon fill=\"black\" stroke=\"black\" points=\"126.12,-14.5 116.12,-18 126.12,-21.5 126.12,-14.5\"/>\n</g>\n</g>\n</svg>\n",
            "text/plain": [
              "<graphviz.graphs.Digraph at 0x787af8d0a010>"
            ]
          },
          "metadata": {},
          "execution_count": 128
        }
      ],
      "source": [
        "#######################################\n",
        "# Test code\n",
        "#######################################\n",
        "\n",
        "test_graph = {\n",
        "    0: [3],\n",
        "    1: [0, 4],\n",
        "    2: [1, 4],\n",
        "    3: [1],\n",
        "    4: [3, 5],\n",
        "    5: [2],\n",
        "}\n",
        "\n",
        "pos = {\n",
        "    0: '0,1!',\n",
        "    1: '1,1!',\n",
        "    2: '2,1!',\n",
        "    3: '0,0!',\n",
        "    4: '1,0!',\n",
        "    5: '2,0!',\n",
        "}\n",
        "\n",
        "G = Graph(test_graph)\n",
        "GT = G.transpose()\n",
        "GT.show(positions=pos)"
      ]
    },
    {
      "cell_type": "markdown",
      "metadata": {
        "id": "qUA194tqm7KM"
      },
      "source": [
        "# Minimum Spanning Trees\n",
        "\n",
        "A minimum spanning tree (MST) is an operation on weighted undirected graphs. We receive a graph $G=(V,E)$ and we should return the spanning tree of $G$ that has a minimum cost.\n",
        "\n",
        "A spanning tree is a graph with the same set of vertices $V$ of $G$, but with potentially fewer edges. A spanning tree is a graph with no cycles. If $G$ has $n$ edges, its spanning tree must have $n-1$ edges.\n",
        "\n",
        "The minimum spanning tree is the spanning tree whose sum of edge weights is the smallest among all spanning trees.\n",
        "\n",
        "The next figure shows a weighted undirect graph is its corresponding MST.\n",
        "\n",
        "![MST](https://raw.githubusercontent.com/UNSW-COMP9418/Week00/main/img/spanning_tree.png \"MST\")"
      ]
    },
    {
      "cell_type": "markdown",
      "metadata": {
        "id": "aP9R3Dnfm7KQ"
      },
      "source": [
        "Let's start by augmenting our graph representation to support weighted edges and adding methods that enable us to add nodes and edges to the graph easily. For later convenience, we will also add functions to remove nodes, iterate over all nodes, and get the children of a node."
      ]
    },
    {
      "cell_type": "code",
      "execution_count": 129,
      "metadata": {
        "colab": {
          "base_uri": "https://localhost:8080/"
        },
        "id": "uVoaTDiPm7KQ",
        "outputId": "803eb3f6-57a8-4f7b-f2fa-15b2c99eedfc"
      },
      "outputs": [
        {
          "output_type": "stream",
          "name": "stdout",
          "text": [
            "The number of nodes in the graph is 6\n",
            "List of all nodes in the graph:\n",
            "0\n",
            "1\n",
            "2\n",
            "3\n",
            "4\n",
            "5\n",
            "0 is not child of 1\n",
            "Children of 1 are [2, 4]\n"
          ]
        }
      ],
      "source": [
        "class Graph(Graph):\n",
        "    def __init__(self, adj_list=None):\n",
        "        self.adj_list = dict()\n",
        "        if adj_list is not None:\n",
        "            self.adj_list = adj_list.copy() # dict with graph's adjacency list\n",
        "        self.colour = dict()\n",
        "        self.edge_weights = dict() # maps a tuple (node1, node2) to a number\n",
        "\n",
        "    def __len__(self):\n",
        "        '''\n",
        "        return the number of nodes in the graph\n",
        "        '''\n",
        "        return len(self.adj_list.keys())\n",
        "\n",
        "    def __iter__(self):\n",
        "        '''\n",
        "        Let a user iterate over the nodes of the graph, like:\n",
        "        for node in graph:\n",
        "            print(node)\n",
        "        '''\n",
        "        return iter(self.adj_list.keys())\n",
        "\n",
        "    def children(self, node):\n",
        "        '''\n",
        "        Return a list of children of a node\n",
        "        '''\n",
        "        return self.adj_list[node]\n",
        "\n",
        "    def add_node(self, name):\n",
        "        '''\n",
        "        This method adds a node to the graph.\n",
        "        '''\n",
        "        if name not in self.adj_list:\n",
        "            self.adj_list[name] = []\n",
        "\n",
        "    def remove_node(self, name):\n",
        "        '''\n",
        "        This method removes a node, and any edges to or from the node\n",
        "        '''\n",
        "        for node in self.adj_list.keys():\n",
        "            if name in self.adj_list[node]:\n",
        "                self.adj_list[node].remove(name)\n",
        "        del self.adj_list[name]\n",
        "\n",
        "    def add_edge(self, node1, node2, weight=1, directed=True):\n",
        "        '''\n",
        "        This function adds an edge. If directed is false, it adds an edge in both directions\n",
        "        '''\n",
        "        # in case they don't already exist, add these nodes to the graph\n",
        "        self.add_node(node1)\n",
        "        self.add_node(node2)\n",
        "\n",
        "        self.adj_list[node1].append(node2)\n",
        "        self.edge_weights[(node1,node2)] = weight\n",
        "\n",
        "        if not directed:\n",
        "            self.adj_list[node2].append(node1)\n",
        "            self.edge_weights[(node2,node1)] = weight\n",
        "\n",
        "    def copy(self):\n",
        "        '''\n",
        "        This function creates a copy of the graph object\n",
        "        '''\n",
        "        return copy.deepcopy(self)\n",
        "\n",
        "    def convert_to_undirected(self):\n",
        "        '''\n",
        "        Assumes that the graph is directed, and creates a reversed version of every edge\n",
        "        '''\n",
        "        G = self.copy()\n",
        "        GT = self.transpose()\n",
        "        for vertex in self:\n",
        "            G.adj_list[vertex] = G.adj_list[vertex] + GT.adj_list[vertex]\n",
        "        return G\n",
        "\n",
        "    def remove_outgoing_from(self, node):\n",
        "        '''\n",
        "        Removes all outgoing edges from node\n",
        "        '''\n",
        "        self.adj_list[node] = []\n",
        "\n",
        "# Reinitialise graph G\n",
        "G = Graph(graph)\n",
        "\n",
        "### Example usage\n",
        "print(f\"The number of nodes in the graph is {len(G)}\")\n",
        "\n",
        "print(\"List of all nodes in the graph:\")\n",
        "for node in G:\n",
        "    print(node)\n",
        "\n",
        "# check if 0 is a child of 1\n",
        "if 0 in G.children(1):\n",
        "    print(\"0 is child of 1\")\n",
        "else:\n",
        "    print(\"0 is not child of 1\")\n",
        "\n",
        "print(f\"Children of 1 are {G.children(1)}\")"
      ]
    },
    {
      "cell_type": "markdown",
      "metadata": {
        "id": "Yz-JD9FEm7KR"
      },
      "source": [
        "## Exercise\n",
        "\n",
        "Represent the graph on the left side of the previous figure using the proposed augmented representation. We have started and completed the first row."
      ]
    },
    {
      "cell_type": "code",
      "execution_count": 130,
      "metadata": {
        "colab": {
          "base_uri": "https://localhost:8080/",
          "height": 326
        },
        "id": "OybfDH4Nm7KR",
        "outputId": "8f83635f-03ce-4a0d-dae4-8882414768ba"
      },
      "outputs": [
        {
          "output_type": "execute_result",
          "data": {
            "image/svg+xml": "<?xml version=\"1.0\" encoding=\"UTF-8\" standalone=\"no\"?>\n<!DOCTYPE svg PUBLIC \"-//W3C//DTD SVG 1.1//EN\"\n \"http://www.w3.org/Graphics/SVG/1.1/DTD/svg11.dtd\">\n<!-- Generated by graphviz version 2.43.0 (0)\n -->\n<!-- Title: %3 Pages: 1 -->\n<svg width=\"310pt\" height=\"230pt\"\n viewBox=\"0.00 0.00 310.02 230.02\" xmlns=\"http://www.w3.org/2000/svg\" xmlns:xlink=\"http://www.w3.org/1999/xlink\">\n<g id=\"graph0\" class=\"graph\" transform=\"scale(1 1) rotate(0) translate(4 226.02)\">\n<title>%3</title>\n<polygon fill=\"white\" stroke=\"transparent\" points=\"-4,4 -4,-226.02 306.02,-226.02 306.02,4 -4,4\"/>\n<!-- 0 -->\n<g id=\"node1\" class=\"node\">\n<title>0</title>\n<ellipse fill=\"none\" stroke=\"black\" cx=\"89.01\" cy=\"-204.02\" rx=\"27\" ry=\"18\"/>\n<text text-anchor=\"middle\" x=\"89.01\" y=\"-200.32\" font-family=\"Times,serif\" font-size=\"14.00\">0</text>\n</g>\n<!-- 2 -->\n<g id=\"node2\" class=\"node\">\n<title>2</title>\n<ellipse fill=\"none\" stroke=\"black\" cx=\"27\" cy=\"-142.01\" rx=\"27\" ry=\"18\"/>\n<text text-anchor=\"middle\" x=\"27\" y=\"-138.31\" font-family=\"Times,serif\" font-size=\"14.00\">2</text>\n</g>\n<!-- 0&#45;&#45;2 -->\n<g id=\"edge1\" class=\"edge\">\n<title>0&#45;&#45;2</title>\n<path fill=\"none\" stroke=\"black\" d=\"M74,-189.01C64.39,-179.4 51.96,-166.98 42.3,-157.31\"/>\n</g>\n<!-- 1 -->\n<g id=\"node3\" class=\"node\">\n<title>1</title>\n<ellipse fill=\"none\" stroke=\"black\" cx=\"275.02\" cy=\"-204.02\" rx=\"27\" ry=\"18\"/>\n<text text-anchor=\"middle\" x=\"275.02\" y=\"-200.32\" font-family=\"Times,serif\" font-size=\"14.00\">1</text>\n</g>\n<!-- 0&#45;&#45;1 -->\n<g id=\"edge2\" class=\"edge\">\n<title>0&#45;&#45;1</title>\n<path fill=\"none\" stroke=\"black\" d=\"M116.05,-204.02C151.32,-204.02 212.66,-204.02 247.94,-204.02\"/>\n</g>\n<!-- 3 -->\n<g id=\"node4\" class=\"node\">\n<title>3</title>\n<ellipse fill=\"none\" stroke=\"black\" cx=\"89.01\" cy=\"-80.01\" rx=\"27\" ry=\"18\"/>\n<text text-anchor=\"middle\" x=\"89.01\" y=\"-76.31\" font-family=\"Times,serif\" font-size=\"14.00\">3</text>\n</g>\n<!-- 2&#45;&#45;3 -->\n<g id=\"edge3\" class=\"edge\">\n<title>2&#45;&#45;3</title>\n<path fill=\"none\" stroke=\"black\" d=\"M42.01,-127C51.62,-117.4 64.04,-104.97 73.7,-95.31\"/>\n</g>\n<!-- 6 -->\n<g id=\"node5\" class=\"node\">\n<title>6</title>\n<ellipse fill=\"none\" stroke=\"black\" cx=\"27\" cy=\"-18\" rx=\"27\" ry=\"18\"/>\n<text text-anchor=\"middle\" x=\"27\" y=\"-14.3\" font-family=\"Times,serif\" font-size=\"14.00\">6</text>\n</g>\n<!-- 2&#45;&#45;6 -->\n<g id=\"edge4\" class=\"edge\">\n<title>2&#45;&#45;6</title>\n<path fill=\"none\" stroke=\"black\" d=\"M27,-123.98C27,-100.47 27,-59.58 27,-36.05\"/>\n</g>\n<!-- 1&#45;&#45;3 -->\n<g id=\"edge5\" class=\"edge\">\n<title>1&#45;&#45;3</title>\n<path fill=\"none\" stroke=\"black\" d=\"M255.82,-191.21C220.08,-167.39 143.77,-116.51 108.11,-92.74\"/>\n</g>\n<!-- 5 -->\n<g id=\"node6\" class=\"node\">\n<title>5</title>\n<ellipse fill=\"none\" stroke=\"black\" cx=\"151.01\" cy=\"-80.01\" rx=\"27\" ry=\"18\"/>\n<text text-anchor=\"middle\" x=\"151.01\" y=\"-76.31\" font-family=\"Times,serif\" font-size=\"14.00\">5</text>\n</g>\n<!-- 1&#45;&#45;5 -->\n<g id=\"edge6\" class=\"edge\">\n<title>1&#45;&#45;5</title>\n<path fill=\"none\" stroke=\"black\" d=\"M259.82,-188.81C236.02,-165.01 190.22,-119.21 166.34,-95.34\"/>\n</g>\n<!-- 4 -->\n<g id=\"node8\" class=\"node\">\n<title>4</title>\n<ellipse fill=\"none\" stroke=\"black\" cx=\"213.02\" cy=\"-80.01\" rx=\"27\" ry=\"18\"/>\n<text text-anchor=\"middle\" x=\"213.02\" y=\"-76.31\" font-family=\"Times,serif\" font-size=\"14.00\">4</text>\n</g>\n<!-- 1&#45;&#45;4 -->\n<g id=\"edge7\" class=\"edge\">\n<title>1&#45;&#45;4</title>\n<path fill=\"none\" stroke=\"black\" d=\"M266.4,-186.78C254.56,-163.08 233.37,-120.72 221.57,-97.1\"/>\n</g>\n<!-- 3&#45;&#45;6 -->\n<g id=\"edge8\" class=\"edge\">\n<title>3&#45;&#45;6</title>\n<path fill=\"none\" stroke=\"black\" d=\"M74,-65C64.39,-55.39 51.96,-42.96 42.3,-33.3\"/>\n</g>\n<!-- 3&#45;&#45;5 -->\n<g id=\"edge9\" class=\"edge\">\n<title>3&#45;&#45;5</title>\n<path fill=\"none\" stroke=\"black\" d=\"M116.02,-80.01C118.63,-80.01 121.28,-80.01 123.89,-80.01\"/>\n</g>\n<!-- 6&#45;&#45;5 -->\n<g id=\"edge10\" class=\"edge\">\n<title>6&#45;&#45;5</title>\n<path fill=\"none\" stroke=\"black\" d=\"M48.6,-28.8C71.22,-40.11 106.56,-57.78 129.24,-69.12\"/>\n</g>\n<!-- 7 -->\n<g id=\"node7\" class=\"node\">\n<title>7</title>\n<ellipse fill=\"none\" stroke=\"black\" cx=\"275.02\" cy=\"-18\" rx=\"27\" ry=\"18\"/>\n<text text-anchor=\"middle\" x=\"275.02\" y=\"-14.3\" font-family=\"Times,serif\" font-size=\"14.00\">7</text>\n</g>\n<!-- 6&#45;&#45;7 -->\n<g id=\"edge11\" class=\"edge\">\n<title>6&#45;&#45;7</title>\n<path fill=\"none\" stroke=\"black\" d=\"M54.02,-18C101.6,-18 199.84,-18 247.67,-18\"/>\n</g>\n<!-- 5&#45;&#45;7 -->\n<g id=\"edge13\" class=\"edge\">\n<title>5&#45;&#45;7</title>\n<path fill=\"none\" stroke=\"black\" d=\"M172.61,-69.21C195.24,-57.89 230.57,-40.23 253.25,-28.88\"/>\n</g>\n<!-- 5&#45;&#45;4 -->\n<g id=\"edge12\" class=\"edge\">\n<title>5&#45;&#45;4</title>\n<path fill=\"none\" stroke=\"black\" d=\"M178.03,-80.01C180.64,-80.01 183.29,-80.01 185.9,-80.01\"/>\n</g>\n<!-- 7&#45;&#45;4 -->\n<g id=\"edge14\" class=\"edge\">\n<title>7&#45;&#45;4</title>\n<path fill=\"none\" stroke=\"black\" d=\"M260.01,-33.01C250.41,-42.62 237.98,-55.04 228.32,-64.7\"/>\n</g>\n</g>\n</svg>\n",
            "text/plain": [
              "<graphviz.graphs.Graph at 0x787af8fee350>"
            ]
          },
          "metadata": {},
          "execution_count": 130
        }
      ],
      "source": [
        "g = Graph()\n",
        "g.add_edge(0,2,weight=4,directed=False)\n",
        "g.add_edge(0,1,weight=24,directed=False)\n",
        "g.add_edge(2,3,weight=6,directed=False)\n",
        "g.add_edge(2,6,weight=16,directed=False)\n",
        "g.add_edge(3,6,weight=8,directed=False)\n",
        "g.add_edge(3,5,weight=5,directed=False)\n",
        "g.add_edge(3,1,weight=23,directed=False)\n",
        "# TODO: add the rest of the edges\n",
        "g.add_edge(6,5,weight=10,directed=False)\n",
        "g.add_edge(6,7,weight=21,directed=False)\n",
        "g.add_edge(5,1,weight=18,directed=False)\n",
        "g.add_edge(5,4,weight=11,directed=False)\n",
        "g.add_edge(5,7,weight=14,directed=False)\n",
        "g.add_edge(4,1,weight=9,directed=False)\n",
        "g.add_edge(4,7,weight=7,directed=False)\n",
        "#######################################\n",
        "# Test code\n",
        "#######################################\n",
        "pos = {\n",
        "    0: '1,3!',\n",
        "    1: '4,3!',\n",
        "    2: '0,2!',\n",
        "    3: '1,1!',\n",
        "    4: '3,1!',\n",
        "    5: '2,1!',\n",
        "    6: '0,0!',\n",
        "    7: '4,0!',\n",
        "}\n",
        "g.show(directed=False, positions=pos)"
      ]
    },
    {
      "cell_type": "markdown",
      "metadata": {
        "id": "HoveQV59m7KR"
      },
      "source": [
        "## Exercise\n",
        "\n",
        "Now, let's implement the Prim algorithm. The general idea is to start the search from a node `s`. Initially, only nodes directly connected to `s` are considered. We use a priority queue to sort these nodes according to the edge weight. The priority queue is implemented with a binary heap data structure using Python's [heapq](https://docs.python.org/3/library/heapq.html) module. The node `u` with the smallest cost connecting to `s` is removed from the priority queue and inserted into the MST. The search expands to include the vertices that directly connect to `u`. These nodes are inserted into the priority queue, and the procedure repeats according to the following algorithm:\n",
        "\n",
        "![Prim](https://raw.githubusercontent.com/UNSW-COMP9418/Week00/main/img/Prim.png \"MST\")\n",
        "\n",
        "Notice that `S` maintains the nodes currently in the MST. It is crucial to avoid inserting the same node twice, as this would create a cycle.\n",
        "\n",
        "We have created a stub for you. You need to complete the gaps where there is an ellipsis."
      ]
    },
    {
      "cell_type": "code",
      "execution_count": 131,
      "metadata": {
        "colab": {
          "base_uri": "https://localhost:8080/",
          "height": 345
        },
        "id": "hcRnCM-bm7KR",
        "outputId": "e011cd6b-fbdc-487a-81dc-e2dcde19895c"
      },
      "outputs": [
        {
          "output_type": "stream",
          "name": "stdout",
          "text": [
            "{(0, 2): 4, (2, 3): 6, (3, 5): 5, (3, 6): 8, (5, 4): 11, (4, 7): 7, (4, 1): 9}\n"
          ]
        },
        {
          "output_type": "execute_result",
          "data": {
            "image/svg+xml": "<?xml version=\"1.0\" encoding=\"UTF-8\" standalone=\"no\"?>\n<!DOCTYPE svg PUBLIC \"-//W3C//DTD SVG 1.1//EN\"\n \"http://www.w3.org/Graphics/SVG/1.1/DTD/svg11.dtd\">\n<!-- Generated by graphviz version 2.43.0 (0)\n -->\n<!-- Title: %3 Pages: 1 -->\n<svg width=\"310pt\" height=\"230pt\"\n viewBox=\"0.00 0.00 310.02 230.02\" xmlns=\"http://www.w3.org/2000/svg\" xmlns:xlink=\"http://www.w3.org/1999/xlink\">\n<g id=\"graph0\" class=\"graph\" transform=\"scale(1 1) rotate(0) translate(4 226.02)\">\n<title>%3</title>\n<polygon fill=\"white\" stroke=\"transparent\" points=\"-4,4 -4,-226.02 306.02,-226.02 306.02,4 -4,4\"/>\n<!-- 0 -->\n<g id=\"node1\" class=\"node\">\n<title>0</title>\n<ellipse fill=\"none\" stroke=\"black\" cx=\"89.01\" cy=\"-204.02\" rx=\"27\" ry=\"18\"/>\n<text text-anchor=\"middle\" x=\"89.01\" y=\"-200.32\" font-family=\"Times,serif\" font-size=\"14.00\">0</text>\n</g>\n<!-- 2 -->\n<g id=\"node2\" class=\"node\">\n<title>2</title>\n<ellipse fill=\"none\" stroke=\"black\" cx=\"27\" cy=\"-142.01\" rx=\"27\" ry=\"18\"/>\n<text text-anchor=\"middle\" x=\"27\" y=\"-138.31\" font-family=\"Times,serif\" font-size=\"14.00\">2</text>\n</g>\n<!-- 0&#45;&#45;2 -->\n<g id=\"edge1\" class=\"edge\">\n<title>0&#45;&#45;2</title>\n<path fill=\"none\" stroke=\"black\" d=\"M74,-189.01C64.39,-179.4 51.96,-166.98 42.3,-157.31\"/>\n</g>\n<!-- 3 -->\n<g id=\"node3\" class=\"node\">\n<title>3</title>\n<ellipse fill=\"none\" stroke=\"black\" cx=\"89.01\" cy=\"-80.01\" rx=\"27\" ry=\"18\"/>\n<text text-anchor=\"middle\" x=\"89.01\" y=\"-76.31\" font-family=\"Times,serif\" font-size=\"14.00\">3</text>\n</g>\n<!-- 2&#45;&#45;3 -->\n<g id=\"edge2\" class=\"edge\">\n<title>2&#45;&#45;3</title>\n<path fill=\"none\" stroke=\"black\" d=\"M42.01,-127C51.62,-117.4 64.04,-104.97 73.7,-95.31\"/>\n</g>\n<!-- 5 -->\n<g id=\"node4\" class=\"node\">\n<title>5</title>\n<ellipse fill=\"none\" stroke=\"black\" cx=\"151.01\" cy=\"-80.01\" rx=\"27\" ry=\"18\"/>\n<text text-anchor=\"middle\" x=\"151.01\" y=\"-76.31\" font-family=\"Times,serif\" font-size=\"14.00\">5</text>\n</g>\n<!-- 3&#45;&#45;5 -->\n<g id=\"edge3\" class=\"edge\">\n<title>3&#45;&#45;5</title>\n<path fill=\"none\" stroke=\"black\" d=\"M116.02,-80.01C118.63,-80.01 121.28,-80.01 123.89,-80.01\"/>\n</g>\n<!-- 6 -->\n<g id=\"node5\" class=\"node\">\n<title>6</title>\n<ellipse fill=\"none\" stroke=\"black\" cx=\"27\" cy=\"-18\" rx=\"27\" ry=\"18\"/>\n<text text-anchor=\"middle\" x=\"27\" y=\"-14.3\" font-family=\"Times,serif\" font-size=\"14.00\">6</text>\n</g>\n<!-- 3&#45;&#45;6 -->\n<g id=\"edge4\" class=\"edge\">\n<title>3&#45;&#45;6</title>\n<path fill=\"none\" stroke=\"black\" d=\"M74,-65C64.39,-55.39 51.96,-42.96 42.3,-33.3\"/>\n</g>\n<!-- 4 -->\n<g id=\"node6\" class=\"node\">\n<title>4</title>\n<ellipse fill=\"none\" stroke=\"black\" cx=\"213.02\" cy=\"-80.01\" rx=\"27\" ry=\"18\"/>\n<text text-anchor=\"middle\" x=\"213.02\" y=\"-76.31\" font-family=\"Times,serif\" font-size=\"14.00\">4</text>\n</g>\n<!-- 5&#45;&#45;4 -->\n<g id=\"edge5\" class=\"edge\">\n<title>5&#45;&#45;4</title>\n<path fill=\"none\" stroke=\"black\" d=\"M178.03,-80.01C180.64,-80.01 183.29,-80.01 185.9,-80.01\"/>\n</g>\n<!-- 7 -->\n<g id=\"node7\" class=\"node\">\n<title>7</title>\n<ellipse fill=\"none\" stroke=\"black\" cx=\"275.02\" cy=\"-18\" rx=\"27\" ry=\"18\"/>\n<text text-anchor=\"middle\" x=\"275.02\" y=\"-14.3\" font-family=\"Times,serif\" font-size=\"14.00\">7</text>\n</g>\n<!-- 4&#45;&#45;7 -->\n<g id=\"edge6\" class=\"edge\">\n<title>4&#45;&#45;7</title>\n<path fill=\"none\" stroke=\"black\" d=\"M228.03,-65C237.63,-55.39 250.06,-42.96 259.72,-33.3\"/>\n</g>\n<!-- 1 -->\n<g id=\"node8\" class=\"node\">\n<title>1</title>\n<ellipse fill=\"none\" stroke=\"black\" cx=\"275.02\" cy=\"-204.02\" rx=\"27\" ry=\"18\"/>\n<text text-anchor=\"middle\" x=\"275.02\" y=\"-200.32\" font-family=\"Times,serif\" font-size=\"14.00\">1</text>\n</g>\n<!-- 4&#45;&#45;1 -->\n<g id=\"edge7\" class=\"edge\">\n<title>4&#45;&#45;1</title>\n<path fill=\"none\" stroke=\"black\" d=\"M221.64,-97.25C233.49,-120.94 254.67,-163.31 266.48,-186.92\"/>\n</g>\n</g>\n</svg>\n",
            "text/plain": [
              "<graphviz.graphs.Graph at 0x787af8db8650>"
            ]
          },
          "metadata": {},
          "execution_count": 131
        }
      ],
      "source": [
        "class Graph(Graph):\n",
        "    def prim(self, start):\n",
        "        \"\"\"\n",
        "        argument\n",
        "        `start`, start vertex\n",
        "        \"\"\"\n",
        "        # Intialise set 'visited' with vertex s\n",
        "        visited = {start}\n",
        "        # Initialise priority queue Q with an empty list\n",
        "        Q = []\n",
        "        # Initilise list tree with empty Graph object. This object will have the MST at the end of the execution\n",
        "        tree = Graph()\n",
        "        # Initialise the priority queue Q with outgoing edges from s\n",
        "        for e in self.adj_list[start]:\n",
        "            # There is a trick here. Python prioriy queues accept tuples but the first entry of the tuple must be the priority value\n",
        "            pq.heappush(Q, (self.edge_weights[(start,e)], start, e))\n",
        "        while len(Q) > 0:\n",
        "            # Remove element from Q with the smallest weight\n",
        "            weight, v, u = pq.heappop(Q)\n",
        "            # If the node is already in 'visited' we cannot include it in the MST since it would create a cycle\n",
        "            if u not in visited:\n",
        "                # Let's grow the MST by inserting the vertex in visited\n",
        "                visited.add(u)\n",
        "                # Also we insert the edge in tree\n",
        "                tree.add_edge(v,u,weight=weight)\n",
        "                # We iterate over all outgoing edges of u\n",
        "                for e in self.adj_list[u]:\n",
        "                    # We are interested in edges that connect to vertices not in 'visited' and with smaller weight than known values stored in a\n",
        "                    if e not in visited:\n",
        "                        # Edge e is of interest, let's store in the priority queue for future analysis\n",
        "                        pq.heappush(Q, (self.edge_weights[(u,e)], u, e))\n",
        "        return tree\n",
        "\n",
        "#######################################\n",
        "# Test code\n",
        "#######################################\n",
        "g = Graph()\n",
        "g.add_edge(0,2,weight=4,directed=False)\n",
        "g.add_edge(0,1,weight=24,directed=False)\n",
        "g.add_edge(2,3,weight=6,directed=False)\n",
        "g.add_edge(2,6,weight=16,directed=False)\n",
        "g.add_edge(3,6,weight=8,directed=False)\n",
        "g.add_edge(3,5,weight=5,directed=False)\n",
        "g.add_edge(3,1,weight=23,directed=False)\n",
        "g.add_edge(6,5,weight=10,directed=False)\n",
        "g.add_edge(6,7,weight=21,directed=False)\n",
        "g.add_edge(5,1,weight=18,directed=False)\n",
        "g.add_edge(5,4,weight=11,directed=False)\n",
        "g.add_edge(5,7,weight=14,directed=False)\n",
        "g.add_edge(4,1,weight=9,directed=False)\n",
        "g.add_edge(4,7,weight=7,directed=False)\n",
        "# TODO: copy the rest of the edges from above\n",
        "\n",
        "tree = g.prim(0)\n",
        "print(tree.edge_weights)\n",
        "tree.show(directed=False, positions=pos)"
      ]
    },
    {
      "cell_type": "markdown",
      "metadata": {
        "id": "RHcXPXPom7KR"
      },
      "source": [
        "If your algorithm is correct, you should see the following output:\n",
        "```\n",
        "{(0, 2): 4, (2, 3): 6, (3, 5): 5, (3, 6): 8, (5, 4): 11, (4, 7): 7, (4, 1): 9}\n",
        "```\n",
        "\n",
        "You can compare it to the figure to confirm it is correct."
      ]
    },
    {
      "cell_type": "markdown",
      "metadata": {
        "id": "lPenxz1Am7KR"
      },
      "source": [
        "## Final Task\n",
        "\n",
        "Create a python file called Graph.py containing the Graph class we implemented above. This will be used in future tutorials."
      ]
    },
    {
      "cell_type": "code",
      "execution_count": 132,
      "metadata": {
        "id": "0fwpijsum7KR"
      },
      "outputs": [],
      "source": [
        "# Visualise our graph\n",
        "import graphviz\n",
        "# Priority queue for Prim algorithm\n",
        "import heapq as pq\n",
        "import copy\n",
        "\n",
        "class Graph():\n",
        "    def __init__(self, adj_list=None):\n",
        "        \"\"\"\n",
        "        Initialises a graph object\n",
        "        arguments:\n",
        "            `adj_list`, dictionary with nodes as keys and lists of adjacent nodes as value\n",
        "        return:\n",
        "            nothing\n",
        "        \"\"\"\n",
        "        self.adj_list = dict()\n",
        "        if adj_list is not None:\n",
        "            self.adj_list = adj_list.copy() # dict with graph's adjacency list\n",
        "        self.colour = dict()\n",
        "        self.edge_weights = dict() # maps a tuple (node1, node2) to a number\n",
        "\n",
        "    def __len__(self):\n",
        "        '''\n",
        "        return the number of nodes in the graph\n",
        "        '''\n",
        "        return len(self.adj_list.keys())\n",
        "\n",
        "    def __iter__(self):\n",
        "        '''\n",
        "        Let a user iterate over the nodes of the graph, like:\n",
        "        for node in graph:\n",
        "            ... # do something\n",
        "        '''\n",
        "        return iter(self.adj_list.keys())\n",
        "\n",
        "    def children(self, node):\n",
        "        '''\n",
        "        Return a list of children of a node\n",
        "        '''\n",
        "        return self.adj_list[node]\n",
        "\n",
        "    def add_node(self, name):\n",
        "        '''\n",
        "        This method adds a node to the graph.\n",
        "        '''\n",
        "        if name not in self.adj_list:\n",
        "            self.adj_list[name] = []\n",
        "\n",
        "    def remove_node(self, name):\n",
        "        '''\n",
        "        This method removes a node, and any edges to or from the node\n",
        "        '''\n",
        "        for node in self.adj_list.keys():\n",
        "            if name in self.adj_list[node]:\n",
        "                self.adj_list[node].remove(name)\n",
        "        del self.adj_list[name]\n",
        "\n",
        "    def add_edge(self, node1, node2, weight=1, directed=True):\n",
        "        '''\n",
        "        This function adds an edge. If directed is false, it adds an edge in both directions\n",
        "        '''\n",
        "        # in case they don't already exist, add these nodes to the graph\n",
        "        self.add_node(node1)\n",
        "        self.add_node(node2)\n",
        "\n",
        "        self.adj_list[node1].append(node2)\n",
        "        self.edge_weights[(node1,node2)] = weight\n",
        "\n",
        "        if not directed:\n",
        "            self.adj_list[node2].append(node1)\n",
        "            self.edge_weights[(node2,node1)] = weight\n",
        "\n",
        "    def copy(self):\n",
        "        '''\n",
        "        This function creates a copy of the graph object\n",
        "        '''\n",
        "        return copy.deepcopy(self)\n",
        "\n",
        "    def convert_to_undirected(self):\n",
        "        '''\n",
        "        Assumes that the graph is directed, and creates a reversed version of every edge\n",
        "        '''\n",
        "        G = self.copy()\n",
        "        GT = self.transpose()\n",
        "        for vertex in self:\n",
        "            G.adj_list[vertex] = G.adj_list[vertex] + GT.adj_list[vertex]\n",
        "        return G\n",
        "\n",
        "    def remove_outgoing_from(self, node):\n",
        "        '''\n",
        "        Removes all outgoing edges from node\n",
        "        '''\n",
        "        self.adj_list[node] = []\n",
        "\n",
        "    def show(self, directed=True, positions=None):\n",
        "        \"\"\"\n",
        "        Prints a graphical visualisation of the graph usign GraphViz\n",
        "        arguments:\n",
        "            `directed`, True if the graph is directed, False if the graph is undirected\n",
        "            `pos: dictionary`, with nodes as keys and positions as values\n",
        "        return:\n",
        "            GraphViz object\n",
        "        \"\"\"\n",
        "        if directed:\n",
        "            dot = graphviz.Digraph(engine=\"neato\", comment='Directed graph')\n",
        "        else:\n",
        "            dot = graphviz.Graph(engine=\"neato\", comment='Undirected graph')\n",
        "        dot.attr(overlap=\"false\", splines=\"true\")\n",
        "        for v in self.adj_list:\n",
        "            if positions is not None:\n",
        "                dot.node(str(v), pos=positions[v])\n",
        "            else:\n",
        "                dot.node(str(v))\n",
        "        for v in self.adj_list:\n",
        "            for w in self.adj_list[v]:\n",
        "                dot.edge(str(v), str(w))\n",
        "\n",
        "        return dot\n",
        "\n",
        "    def _dfs_r(self, v): # This is the main DFS recursive function\n",
        "        \"\"\"\n",
        "        argument\n",
        "        `v`, next vertex to be visited\n",
        "        `colour`, dictionary with the colour of each node\n",
        "        \"\"\"\n",
        "        # print('Visiting: ', v)\n",
        "        self.colour[v] = 'grey' # Visited vertices are coloured 'grey'\n",
        "        for w in self.adj_list[v]: # Let's visit all outgoing edges from v\n",
        "            if self.colour[w] == 'white': # To avoid loops, we check if the next vertex hasn't been visited yet\n",
        "                self._dfs_r(w)\n",
        "        self.colour[v] = 'black' # When we finish the for loop, we know we have visited all nodes from v. It is time to turn it 'black'\n",
        "\n",
        "    def dfs(self, start): # This is an auxiliary DFS function to create and initialize the colour dictionary\n",
        "        \"\"\"\n",
        "        argument\n",
        "        `start`, starting vertex\n",
        "        \"\"\"\n",
        "        self.colour = {node: 'white' for node in self.adj_list.keys()} # Create a dictionary with keys as node numbers and values equal to 'white'\n",
        "        self._dfs_r(start)\n",
        "        return self.colour # We can return colour dictionary. It is useful for some operations, such as detecting connected components\n",
        "\n",
        "    def dfs_all(self, start):\n",
        "        \"\"\"\n",
        "        Traverse the graph in DFS order. This function keep calling dfs_r while there are white vetices\n",
        "        arguments:\n",
        "            `start`, starting vertex\n",
        "        return:\n",
        "            nothing, but self.colour is modified\n",
        "        \"\"\"\n",
        "        self.colour = {node: 'white' for node in self.adj_list.keys()} # Create a dictionary with keys as node numbers and values equal to 'white'\n",
        "        for start in self.colour.keys():\n",
        "            if self.colour[start] == 'white':\n",
        "                self._dfs_r(start)\n",
        "\n",
        "    def _find_cycle_r(self, v):\n",
        "        \"\"\"\n",
        "        Detect a cycle in the graph. This is the main recursive function based on DFS\n",
        "        arguments:\n",
        "            `v`, next vertex to be visited\n",
        "        return:\n",
        "            True if cycle is found. Otherwise, False\n",
        "        \"\"\"\n",
        "        # print('Visiting: ', v)\n",
        "        self.colour[v] = 'grey'\n",
        "        for w in self.adj_list[v]:\n",
        "            if self.colour[w] == 'white':\n",
        "                if self._find_cycle_r(w):\n",
        "                    return True\n",
        "            else:\n",
        "                if self.colour[w] == 'grey':\n",
        "                    print(v, w, 'Cycle detected')\n",
        "                    return True\n",
        "        self.colour[v] = 'black'\n",
        "        return False\n",
        "\n",
        "    def find_cycle(self, start):\n",
        "        \"\"\"\n",
        "        Detect a cycle in the graph. This is the entry function that calls find_cycle_r\n",
        "        arguments:\n",
        "            `v`, starting vertex\n",
        "        return:\n",
        "            True if cycle is found. Otherwise, False\n",
        "        \"\"\"\n",
        "        self.colour = dict([(node, 'white') for node in self.adj_list.keys()])\n",
        "        for start in self.colour.keys():\n",
        "            if self.colour[start] == 'white':\n",
        "                if self._find_cycle_r(start):\n",
        "                    return True\n",
        "        return False\n",
        "\n",
        "    def _topological_sort_r(self, v):\n",
        "        \"\"\"\n",
        "        Create a list with a topological ordering of the graph nodes. This is the main recursive function based on DFS\n",
        "        arguments:\n",
        "            `v`, current vertex\n",
        "        return:\n",
        "            nothing, but modifies self.stack\n",
        "        \"\"\"\n",
        "        self.colour[v] = 'grey'\n",
        "        for w in self.adj_list[v]:\n",
        "            if self.colour[w] == 'white':\n",
        "                self._topological_sort_r(w)\n",
        "        self.colour[v] = 'black'\n",
        "        self.stack.append(v)\n",
        "\n",
        "    def topological_sort(self):\n",
        "        \"\"\"\n",
        "        Create a list with a topological ordering of the graph nodes. This is the entry function that calls topological_sort_r\n",
        "        arguments:\n",
        "            None\n",
        "        return:\n",
        "            a list with the topological order of the graph G\n",
        "        \"\"\"\n",
        "        self.stack = []\n",
        "        self.colour = {node: 'white' for node in self.adj_list.keys()}\n",
        "        for start in self.adj_list.keys():\n",
        "            if self.colour[start] == 'white':\n",
        "                self._topological_sort_r(start)\n",
        "        return self.stack[::-1]\n",
        "\n",
        "    def transpose(self):\n",
        "        \"\"\"\n",
        "        Transposes the graph creating a new graph\n",
        "        arguments:\n",
        "            None\n",
        "        return:\n",
        "            a graph object with the transposition of this object\n",
        "        \"\"\"\n",
        "        gt = dict((v, []) for v in self.adj_list)\n",
        "        for v in self.adj_list:\n",
        "            for w in self.adj_list[v]:\n",
        "                gt[w].append(v)\n",
        "        return Graph(gt)\n",
        "\n",
        "    def prim(self, start):\n",
        "        \"\"\"\n",
        "        argument\n",
        "        `start`, start vertex\n",
        "        \"\"\"\n",
        "        visited = {start}\n",
        "        Q = []\n",
        "        tree = Graph()\n",
        "        for e in self.adj_list[start]:\n",
        "            pq.heappush(Q, (self.edge_weights[(start,e)], start, e))\n",
        "        while len(Q) > 0:\n",
        "            weight, v, u = pq.heappop(Q)\n",
        "            if u not in visited:\n",
        "                visited.add(u)\n",
        "                tree.add_edge(v, u, weight=weight)\n",
        "                for e in self.adj_list[u]:\n",
        "                    if e not in visited:\n",
        "                        pq.heappush(Q, (self.edge_weights[(u,e)], u, e))\n",
        "        return tree"
      ]
    },
    {
      "cell_type": "markdown",
      "metadata": {
        "id": "YqNf2Ezem7KS"
      },
      "source": [
        "# Extensions\n",
        "\n",
        "We could implement some additional functions such as:\n",
        "1. Use the graph transpose routine to implement Kosaraju's algorithm as we discussed in the theory part of this tutorial.\n",
        "\n",
        "2. Change the Prim algorithm to find the *Maximum* Spanning Tree. Such implementation could be achieved by replacing the min-heap with a max-heap.\n",
        "\n",
        "That is all for today. Next week, we will develop some code to store and manipulate probability tables."
      ]
    }
  ],
  "metadata": {
    "interpreter": {
      "hash": "31f2aee4e71d21fbe5cf8b01ff0e069b9275f58929596ceb00d14d90e3e16cd6"
    },
    "kernelspec": {
      "display_name": "Python 3 (ipykernel)",
      "language": "python",
      "name": "python3"
    },
    "language_info": {
      "codemirror_mode": {
        "name": "ipython",
        "version": 3
      },
      "file_extension": ".py",
      "mimetype": "text/x-python",
      "name": "python",
      "nbconvert_exporter": "python",
      "pygments_lexer": "ipython3",
      "version": "3.12.4"
    },
    "toc": {
      "colors": {
        "hover_highlight": "#DAA520",
        "navigate_num": "#000000",
        "navigate_text": "#333333",
        "running_highlight": "#FF0000",
        "selected_highlight": "#FFD700",
        "sidebar_border": "#EEEEEE",
        "wrapper_background": "#FFFFFF"
      },
      "moveMenuLeft": true,
      "nav_menu": {
        "height": "198px",
        "width": "252px"
      },
      "navigate_menu": true,
      "number_sections": true,
      "sideBar": true,
      "threshold": 4,
      "toc_cell": false,
      "toc_position": {
        "height": "625px",
        "left": "0px",
        "right": "1067.67px",
        "top": "107px",
        "width": "212px"
      },
      "toc_section_display": "block",
      "toc_window_display": true,
      "widenNotebook": false
    },
    "colab": {
      "provenance": []
    }
  },
  "nbformat": 4,
  "nbformat_minor": 0
}